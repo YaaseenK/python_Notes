{
    "cells": [
        {
            "cell_type": "markdown",
            "metadata": {},
            "source": [
                "#Python Data Structures Cheat Sheet\n"
            ]
        },
        {
            "cell_type": "markdown",
            "metadata": {},
            "source": [
                "# Lists\n",
                "A list in Python is a built-in data structure that allows you to store multiple items in a single variable. Lists are:\n",
                "\n",
                "- Ordered: Items maintain their insertion order.\n",
                "- Mutable: You can modify, add, or remove elements.\n",
                "- Heterogeneous: Can contain different data types (integers, strings, floats, other lists, etc.).\n",
                "- Indexed: Access elements using zero-based indexing."
            ]
        },
        {
            "cell_type": "code",
            "execution_count": 5,
            "metadata": {},
            "outputs": [
                {
                    "name": "stdout",
                    "output_type": "stream",
                    "text": [
                        "1. ['apple', 'banana,', 'orange']\n",
                        "2. ['apple', 'banana,', 'orange', 'mango']\n"
                    ]
                }
            ],
            "source": [
                "#Syntax for append()\n",
                "fruits = [\"apple\", 'banana,', 'orange']\n",
                "print(f\"1. {fruits}\")\n",
                "fruits.append(\"mango\")\n",
                "print(f\"2. {fruits}\")"
            ]
        },
        {
            "cell_type": "code",
            "execution_count": 6,
            "metadata": {},
            "outputs": [
                {
                    "name": "stdout",
                    "output_type": "stream",
                    "text": [
                        "[1, 2, 3, 4, 5]\n"
                    ]
                }
            ],
            "source": [
                "#copy list\n",
                "my_list = [1, 2, 3, 4, 5]\n",
                "newList= my_list.copy()\n",
                "print(newList)"
            ]
        },
        {
            "cell_type": "code",
            "execution_count": 7,
            "metadata": {},
            "outputs": [
                {
                    "name": "stdout",
                    "output_type": "stream",
                    "text": [
                        "4\n"
                    ]
                }
            ],
            "source": [
                "#count() is a method used to count the number of occurances of a specific element\n",
                "my_list = [1, 2, 2, 3, 4, 2, 5, 2] \n",
                "count = my_list.count(2)\n",
                "print(count)\n"
            ]
        },
        {
            "cell_type": "code",
            "execution_count": 9,
            "metadata": {},
            "outputs": [
                {
                    "name": "stdout",
                    "output_type": "stream",
                    "text": [
                        "[10, 20, 40, 50]\n"
                    ]
                }
            ],
            "source": [
                "#del statement is used to remove an element\n",
                "my_list = [10, 20, 30, 40, 50]\n",
                "del my_list[2] #remove the element in the second index of the list \n",
                "print(my_list)"
            ]
        },
        {
            "cell_type": "code",
            "execution_count": 10,
            "metadata": {},
            "outputs": [
                {
                    "name": "stdout",
                    "output_type": "stream",
                    "text": [
                        "['apple', 'banana', 'orange', 'mango', 'grape']\n"
                    ]
                }
            ],
            "source": [
                "#extend() is a method used to add multiple elements to a list. \n",
                "# it can add another list, tuple, or string and append each element\n",
                "# list_name.extend(iterable)  # SYNTAX #\n",
                "\n",
                "fruits = [\"apple\", \"banana\", \"orange\"]\n",
                "more_fruits = [\"mango\", \"grape\"]\n",
                "fruits.extend(more_fruits)\n",
                "print(fruits)\n"
            ]
        },
        {
            "cell_type": "code",
            "execution_count": null,
            "metadata": {},
            "outputs": [
                {
                    "name": "stdout",
                    "output_type": "stream",
                    "text": [
                        "[10, 20, 30]\n",
                        "[50]\n"
                    ]
                }
            ],
            "source": [
                "#Indexing is used to access individual elements by their position\n",
                "my_list = [10, 20, 30, 40, 50]\n",
                "print(my_list[0:3])\n",
                "print(my_list[-1])"
            ]
        },
        {
            "cell_type": "code",
            "execution_count": 34,
            "metadata": {},
            "outputs": [
                {
                    "name": "stdout",
                    "output_type": "stream",
                    "text": [
                        "[10, 20, 60, 30, 40, 50]\n"
                    ]
                }
            ],
            "source": [
                "# insert() method used to insert element\n",
                "# list_name.insert(index, element) # SYNTAX#\n",
                "\n",
                "my_list1 = [10, 20, 30, 40, 50]\n",
                "my_list1.insert(2, 60)\n",
                "print(my_list1)"
            ]
        },
        {
            "cell_type": "code",
            "execution_count": 36,
            "metadata": {},
            "outputs": [
                {
                    "name": "stdout",
                    "output_type": "stream",
                    "text": [
                        "[10, 25, 30, 40, 50, 70]\n"
                    ]
                }
            ],
            "source": [
                "# Use indexing to modify or assign new values to specific element\n",
                "my_list1 = [10, 20, 30, 40, 50]\n",
                "my_list[1] = 25 # Modifying the second element \n",
                "print(my_list)"
            ]
        },
        {
            "cell_type": "code",
            "execution_count": null,
            "metadata": {},
            "outputs": [
                {
                    "name": "stdout",
                    "output_type": "stream",
                    "text": [
                        "20\n",
                        "[10, 30, 40, 50]\n"
                    ]
                }
            ],
            "source": [
                "#pop() method used to remove element from list. \n",
                "#it removed and return the element to a specified index\n",
                "# if index is not specified default is last element\n",
                "\n",
                "my_list = [10, 20, 30, 40, 50]\n",
                "removed_element = my_list.pop(1)\n",
                "\n",
                "print(removed_element)\n",
                "print(my_list)"
            ]
        },
        {
            "cell_type": "code",
            "execution_count": 43,
            "metadata": {},
            "outputs": [
                {
                    "name": "stdout",
                    "output_type": "stream",
                    "text": [
                        "[10, 20, 30, 40, 30]\n",
                        "[10, 20, 40, 30]\n"
                    ]
                }
            ],
            "source": [
                "#remove() method used to remove first occurrence specified value\n",
                "my_list = [10, 20 , 30, 40, 30]\n",
                "print(my_list)\n",
                "my_list.remove(30)\n",
                "print(my_list)\n"
            ]
        },
        {
            "cell_type": "code",
            "execution_count": 49,
            "metadata": {},
            "outputs": [
                {
                    "name": "stdout",
                    "output_type": "stream",
                    "text": [
                        "[2, 3, 4]\n",
                        "[1, 2, 3]\n",
                        "[3, 4, 5]\n",
                        "[1, 3, 5]\n"
                    ]
                }
            ],
            "source": [
                "# Slicing is used to access a range of elements\n",
                "#list_name[start:end:step] ##SYNTAX\n",
                "\n",
                "my_list = [1, 2, 3, 4, 5]\n",
                "print(my_list[1:4]) # element from 1-3\n",
                "print(my_list[:3]) # element from beginning to index 2\n",
                "print(my_list[2:]) # element 3 - end\n",
                "print(my_list[::2]) # every second element\n"
            ]
        },
        {
            "cell_type": "code",
            "execution_count": null,
            "metadata": {},
            "outputs": [],
            "source": [
                "#sort() method used to sort list in ascending order\n",
                "#`reverse=true` for decending\n",
                "my_list = [9,3,5,6,2,99,213,642, 33]\n",
                "my_list.sort\n",
                "print(my_list)\n",
                "my_list.sort(reverse=true)\n",
                "print(my_list)"
            ]
        }
    ],
    "metadata": {
        "kernelspec": {
            "display_name": "Python 3",
            "language": "python",
            "name": "python3"
        },
        "language_info": {
            "codemirror_mode": {
                "name": "ipython",
                "version": 3
            },
            "file_extension": ".py",
            "mimetype": "text/x-python",
            "name": "python",
            "nbconvert_exporter": "python",
            "pygments_lexer": "ipython3",
            "version": "3.11.9"
        }
    },
    "nbformat": 4,
    "nbformat_minor": 2
}