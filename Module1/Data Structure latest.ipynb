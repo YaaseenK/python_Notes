{
 "cells": [
  {
   "cell_type": "markdown",
   "id": "f28521be",
   "metadata": {},
   "source": [
    "Learn the List in Python"
   ]
  },
  {
   "cell_type": "code",
   "execution_count": 1,
   "id": "cb1bd924",
   "metadata": {},
   "outputs": [
    {
     "data": {
      "text/plain": [
       "[1, 2, 3, 4]"
      ]
     },
     "execution_count": 1,
     "metadata": {},
     "output_type": "execute_result"
    }
   ],
   "source": [
    "l1 = [1,2,3,4]\n",
    "l1"
   ]
  },
  {
   "cell_type": "code",
   "execution_count": 2,
   "id": "e2936a93",
   "metadata": {},
   "outputs": [
    {
     "name": "stdout",
     "output_type": "stream",
     "text": [
      "<class 'list'>\n"
     ]
    }
   ],
   "source": [
    "print(type(l1))"
   ]
  },
  {
   "cell_type": "code",
   "execution_count": 3,
   "id": "756ce0ca",
   "metadata": {},
   "outputs": [],
   "source": [
    "l1 = [\"GTAWESTB\", 1,2,3]"
   ]
  },
  {
   "cell_type": "code",
   "execution_count": 4,
   "id": "11ce3445",
   "metadata": {},
   "outputs": [
    {
     "data": {
      "text/plain": [
       "['GTAWESTB', 1, 2, 3]"
      ]
     },
     "execution_count": 4,
     "metadata": {},
     "output_type": "execute_result"
    }
   ],
   "source": [
    "l1"
   ]
  },
  {
   "cell_type": "code",
   "execution_count": 7,
   "id": "ae4b5e90",
   "metadata": {},
   "outputs": [
    {
     "data": {
      "text/plain": [
       "['pear', 'cherry', 'orange']"
      ]
     },
     "execution_count": 7,
     "metadata": {},
     "output_type": "execute_result"
    }
   ],
   "source": [
    "fruit = [\"apple\",\"cherry\",\"banana\"]\n",
    "fruit[1]\n",
    "fruit[0] = 'pear'\n",
    "fruit[-1] = 'orange'\n",
    "fruit\n",
    "#print(len(fruit))"
   ]
  },
  {
   "cell_type": "code",
   "execution_count": 8,
   "id": "7d495bbf",
   "metadata": {},
   "outputs": [],
   "source": [
    "l2 = list()\n",
    "# l3 = []\n",
    "l4 = list([1,2,3,4,\"this is a list\"])"
   ]
  },
  {
   "cell_type": "code",
   "execution_count": 9,
   "id": "cf66d4b0",
   "metadata": {},
   "outputs": [
    {
     "data": {
      "text/plain": [
       "[1, 2, 3, 4, 'this is a list']"
      ]
     },
     "execution_count": 9,
     "metadata": {},
     "output_type": "execute_result"
    }
   ],
   "source": [
    "l4"
   ]
  },
  {
   "cell_type": "code",
   "execution_count": 10,
   "id": "6a66a849",
   "metadata": {},
   "outputs": [
    {
     "data": {
      "text/plain": [
       "['python']"
      ]
     },
     "execution_count": 10,
     "metadata": {},
     "output_type": "execute_result"
    }
   ],
   "source": [
    "l5 = [\"python\"]\n",
    "l5\n",
    "# type(l5)"
   ]
  },
  {
   "cell_type": "code",
   "execution_count": 11,
   "id": "d82f7eb4",
   "metadata": {},
   "outputs": [],
   "source": [
    "l4 = [1,2,3,4,6,7,8]"
   ]
  },
  {
   "cell_type": "code",
   "execution_count": null,
   "id": "8e3c35f4",
   "metadata": {},
   "outputs": [],
   "source": [
    "fruit = [\"orange\",\"apple\",\"banana\"]\n",
    "fruit[0]=\"grapes\"\n",
    "fruit"
   ]
  },
  {
   "cell_type": "code",
   "execution_count": 12,
   "id": "35593c2d",
   "metadata": {},
   "outputs": [
    {
     "data": {
      "text/plain": [
       "[1, 2, 3, 4, 6, 7, 8]"
      ]
     },
     "execution_count": 12,
     "metadata": {},
     "output_type": "execute_result"
    }
   ],
   "source": [
    "l4"
   ]
  },
  {
   "cell_type": "code",
   "execution_count": 13,
   "id": "ffa45118",
   "metadata": {},
   "outputs": [
    {
     "data": {
      "text/plain": [
       "False"
      ]
     },
     "execution_count": 13,
     "metadata": {},
     "output_type": "execute_result"
    }
   ],
   "source": [
    "5 in l4"
   ]
  },
  {
   "cell_type": "code",
   "execution_count": 14,
   "id": "5e83f904",
   "metadata": {},
   "outputs": [
    {
     "data": {
      "text/plain": [
       "True"
      ]
     },
     "execution_count": 14,
     "metadata": {},
     "output_type": "execute_result"
    }
   ],
   "source": [
    "4 in l4"
   ]
  },
  {
   "cell_type": "code",
   "execution_count": 15,
   "id": "9fb6a03b",
   "metadata": {},
   "outputs": [
    {
     "data": {
      "text/plain": [
       "True"
      ]
     },
     "execution_count": 15,
     "metadata": {},
     "output_type": "execute_result"
    }
   ],
   "source": [
    "5 not in l4"
   ]
  },
  {
   "cell_type": "code",
   "execution_count": 16,
   "id": "1ad25894",
   "metadata": {},
   "outputs": [
    {
     "data": {
      "text/plain": [
       "False"
      ]
     },
     "execution_count": 16,
     "metadata": {},
     "output_type": "execute_result"
    }
   ],
   "source": [
    "4 not in l4"
   ]
  },
  {
   "cell_type": "code",
   "execution_count": null,
   "id": "e8f7386e",
   "metadata": {},
   "outputs": [],
   "source": [
    "l1"
   ]
  },
  {
   "cell_type": "code",
   "execution_count": null,
   "id": "cf8b5fbd",
   "metadata": {},
   "outputs": [],
   "source": [
    "l4"
   ]
  },
  {
   "cell_type": "code",
   "execution_count": null,
   "id": "d3bfaaf4",
   "metadata": {},
   "outputs": [],
   "source": [
    "l1 + l4"
   ]
  },
  {
   "cell_type": "code",
   "execution_count": 17,
   "id": "ef7d20d7",
   "metadata": {},
   "outputs": [],
   "source": [
    "l5 = [\"Hello\"]"
   ]
  },
  {
   "cell_type": "code",
   "execution_count": 18,
   "id": "ca992aab",
   "metadata": {},
   "outputs": [
    {
     "data": {
      "text/plain": [
       "[1, 2, 3, 4, 6, 7, 8, 1, 2, 3, 4, 6, 7, 8, 1, 2, 3, 4, 6, 7, 8]"
      ]
     },
     "execution_count": 18,
     "metadata": {},
     "output_type": "execute_result"
    }
   ],
   "source": [
    "# c = l5 * 3\n",
    "# c\n",
    "d = l4 * 3\n",
    "d"
   ]
  },
  {
   "cell_type": "code",
   "execution_count": 20,
   "id": "2df0dd43",
   "metadata": {},
   "outputs": [
    {
     "data": {
      "text/plain": [
       "2"
      ]
     },
     "execution_count": 20,
     "metadata": {},
     "output_type": "execute_result"
    }
   ],
   "source": [
    "l7 = [1,2,3]\n",
    "l7[1]\n"
   ]
  },
  {
   "cell_type": "code",
   "execution_count": 21,
   "id": "6c296fb6",
   "metadata": {},
   "outputs": [
    {
     "data": {
      "text/plain": [
       "[1, 2, 3, 4, 6, 7, 8]"
      ]
     },
     "execution_count": 21,
     "metadata": {},
     "output_type": "execute_result"
    }
   ],
   "source": [
    "l4"
   ]
  },
  {
   "cell_type": "code",
   "execution_count": 24,
   "id": "a3a6afdc",
   "metadata": {},
   "outputs": [
    {
     "data": {
      "text/plain": [
       "[1, 2, 3, 4, 6, 7, 8]"
      ]
     },
     "execution_count": 24,
     "metadata": {},
     "output_type": "execute_result"
    }
   ],
   "source": [
    "l4[:]"
   ]
  },
  {
   "cell_type": "code",
   "execution_count": null,
   "id": "d7a414ad",
   "metadata": {},
   "outputs": [],
   "source": []
  },
  {
   "cell_type": "code",
   "execution_count": 25,
   "id": "383b5414",
   "metadata": {},
   "outputs": [
    {
     "data": {
      "text/plain": [
       "[1, 2, 3, 4, 6, 7, 8]"
      ]
     },
     "execution_count": 25,
     "metadata": {},
     "output_type": "execute_result"
    }
   ],
   "source": [
    "l4"
   ]
  },
  {
   "cell_type": "code",
   "execution_count": 26,
   "id": "69e218f5",
   "metadata": {},
   "outputs": [
    {
     "data": {
      "text/plain": [
       "[3, 4, 6, 7]"
      ]
     },
     "execution_count": 26,
     "metadata": {},
     "output_type": "execute_result"
    }
   ],
   "source": [
    "l4[2:6]"
   ]
  },
  {
   "cell_type": "code",
   "execution_count": 27,
   "id": "edd2b95c",
   "metadata": {},
   "outputs": [
    {
     "data": {
      "text/plain": [
       "[3, 4, 6, 7]"
      ]
     },
     "execution_count": 27,
     "metadata": {},
     "output_type": "execute_result"
    }
   ],
   "source": [
    "l4[-5:-1]"
   ]
  },
  {
   "cell_type": "code",
   "execution_count": 29,
   "id": "36a6b6af",
   "metadata": {},
   "outputs": [
    {
     "data": {
      "text/plain": [
       "[8]"
      ]
     },
     "execution_count": 29,
     "metadata": {},
     "output_type": "execute_result"
    }
   ],
   "source": [
    "l4[-1:]"
   ]
  },
  {
   "cell_type": "code",
   "execution_count": null,
   "id": "95cece78",
   "metadata": {},
   "outputs": [],
   "source": [
    "l4[start indet: end index: steps]"
   ]
  },
  {
   "cell_type": "code",
   "execution_count": null,
   "id": "c9d59c2e",
   "metadata": {},
   "outputs": [],
   "source": [
    "l4[:]"
   ]
  },
  {
   "cell_type": "code",
   "execution_count": 30,
   "id": "752980e5",
   "metadata": {},
   "outputs": [
    {
     "data": {
      "text/plain": [
       "[1, 3, 6, 8]"
      ]
     },
     "execution_count": 30,
     "metadata": {},
     "output_type": "execute_result"
    }
   ],
   "source": [
    "l4[::2]"
   ]
  },
  {
   "cell_type": "code",
   "execution_count": null,
   "id": "df1857fe",
   "metadata": {},
   "outputs": [],
   "source": [
    "l4[:2]"
   ]
  },
  {
   "cell_type": "code",
   "execution_count": null,
   "id": "07963570",
   "metadata": {},
   "outputs": [],
   "source": [
    "l4"
   ]
  },
  {
   "cell_type": "code",
   "execution_count": 31,
   "id": "cfcb542d",
   "metadata": {},
   "outputs": [],
   "source": [
    "l4.append(\"friday\")"
   ]
  },
  {
   "cell_type": "code",
   "execution_count": 32,
   "id": "a9d375a5",
   "metadata": {},
   "outputs": [
    {
     "data": {
      "text/plain": [
       "[1, 2, 3, 4, 6, 7, 8, 'friday']"
      ]
     },
     "execution_count": 32,
     "metadata": {},
     "output_type": "execute_result"
    }
   ],
   "source": [
    "l4"
   ]
  },
  {
   "cell_type": "code",
   "execution_count": 33,
   "id": "80ff76aa",
   "metadata": {
    "scrolled": true
   },
   "outputs": [
    {
     "data": {
      "text/plain": [
       "[1, 2, 3, 4, 6, 7, 8, 'friday', 1]"
      ]
     },
     "execution_count": 33,
     "metadata": {},
     "output_type": "execute_result"
    }
   ],
   "source": [
    "l4.append(1)\n",
    "l4"
   ]
  },
  {
   "cell_type": "code",
   "execution_count": 34,
   "id": "fb571caf",
   "metadata": {},
   "outputs": [
    {
     "data": {
      "text/plain": [
       "2"
      ]
     },
     "execution_count": 34,
     "metadata": {},
     "output_type": "execute_result"
    }
   ],
   "source": [
    "l4.count(1)"
   ]
  },
  {
   "cell_type": "code",
   "execution_count": 36,
   "id": "b0549dfd",
   "metadata": {},
   "outputs": [
    {
     "data": {
      "text/plain": [
       "['Hello']"
      ]
     },
     "execution_count": 36,
     "metadata": {},
     "output_type": "execute_result"
    }
   ],
   "source": [
    "l5"
   ]
  },
  {
   "cell_type": "code",
   "execution_count": 35,
   "id": "ec6730c5",
   "metadata": {},
   "outputs": [
    {
     "data": {
      "text/plain": [
       "[1, 2, 3, 4]"
      ]
     },
     "execution_count": 35,
     "metadata": {},
     "output_type": "execute_result"
    }
   ],
   "source": [
    "l7 = [1,2,3,4]\n",
    "l7"
   ]
  },
  {
   "cell_type": "code",
   "execution_count": 37,
   "id": "49a829fa",
   "metadata": {},
   "outputs": [],
   "source": [
    "l5.extend(l7)"
   ]
  },
  {
   "cell_type": "code",
   "execution_count": 38,
   "id": "8a33f6aa",
   "metadata": {},
   "outputs": [
    {
     "data": {
      "text/plain": [
       "['Hello', 1, 2, 3, 4]"
      ]
     },
     "execution_count": 38,
     "metadata": {},
     "output_type": "execute_result"
    }
   ],
   "source": [
    "l5"
   ]
  },
  {
   "cell_type": "code",
   "execution_count": null,
   "id": "f7304f42",
   "metadata": {},
   "outputs": [],
   "source": [
    "l5.append([[1,2,3],5])\n",
    "l5"
   ]
  },
  {
   "cell_type": "code",
   "execution_count": 39,
   "id": "07805dbb",
   "metadata": {},
   "outputs": [],
   "source": [
    "l7.extend(l5)"
   ]
  },
  {
   "cell_type": "code",
   "execution_count": 40,
   "id": "e2902ce3",
   "metadata": {},
   "outputs": [
    {
     "data": {
      "text/plain": [
       "[1, 2, 3, 4, 'Hello', 1, 2, 3, 4]"
      ]
     },
     "execution_count": 40,
     "metadata": {},
     "output_type": "execute_result"
    }
   ],
   "source": [
    "l7"
   ]
  },
  {
   "cell_type": "code",
   "execution_count": null,
   "id": "6babf6e2",
   "metadata": {},
   "outputs": [],
   "source": [
    "l5.extend([[6],8])\n",
    "l5\n",
    "# python,1,2,3"
   ]
  },
  {
   "cell_type": "code",
   "execution_count": null,
   "id": "397a2512",
   "metadata": {},
   "outputs": [],
   "source": [
    "l7"
   ]
  },
  {
   "cell_type": "code",
   "execution_count": 41,
   "id": "a9e958e6",
   "metadata": {},
   "outputs": [
    {
     "data": {
      "text/plain": [
       "4"
      ]
     },
     "execution_count": 41,
     "metadata": {},
     "output_type": "execute_result"
    }
   ],
   "source": [
    "l7.index(\"Hello\")"
   ]
  },
  {
   "cell_type": "code",
   "execution_count": 42,
   "id": "8b0bb606",
   "metadata": {},
   "outputs": [
    {
     "ename": "ValueError",
     "evalue": "5 is not in list",
     "output_type": "error",
     "traceback": [
      "\u001b[1;31m---------------------------------------------------------------------------\u001b[0m",
      "\u001b[1;31mValueError\u001b[0m                                Traceback (most recent call last)",
      "\u001b[1;32m<ipython-input-42-10cf3584da6c>\u001b[0m in \u001b[0;36m<module>\u001b[1;34m\u001b[0m\n\u001b[1;32m----> 1\u001b[1;33m \u001b[0ml7\u001b[0m\u001b[1;33m.\u001b[0m\u001b[0mindex\u001b[0m\u001b[1;33m(\u001b[0m\u001b[1;36m5\u001b[0m\u001b[1;33m)\u001b[0m\u001b[1;33m\u001b[0m\u001b[1;33m\u001b[0m\u001b[0m\n\u001b[0m",
      "\u001b[1;31mValueError\u001b[0m: 5 is not in list"
     ]
    }
   ],
   "source": [
    "l7.index(5)"
   ]
  },
  {
   "cell_type": "markdown",
   "id": "e8eb7af3",
   "metadata": {},
   "source": [
    "# Tuple"
   ]
  },
  {
   "cell_type": "code",
   "execution_count": 43,
   "id": "343e6d3f",
   "metadata": {},
   "outputs": [],
   "source": [
    "t1 = (1,2,3)"
   ]
  },
  {
   "cell_type": "code",
   "execution_count": 45,
   "id": "e916b2d9",
   "metadata": {},
   "outputs": [
    {
     "data": {
      "text/plain": [
       "tuple"
      ]
     },
     "execution_count": 45,
     "metadata": {},
     "output_type": "execute_result"
    }
   ],
   "source": [
    "type(t1)"
   ]
  },
  {
   "cell_type": "code",
   "execution_count": 46,
   "id": "da95e3df",
   "metadata": {},
   "outputs": [
    {
     "data": {
      "text/plain": [
       "(1, 2, 'hello')"
      ]
     },
     "execution_count": 46,
     "metadata": {},
     "output_type": "execute_result"
    }
   ],
   "source": [
    "t2 = (1,2,\"hello\")\n",
    "t2"
   ]
  },
  {
   "cell_type": "code",
   "execution_count": 47,
   "id": "4e634fe5",
   "metadata": {},
   "outputs": [
    {
     "data": {
      "text/plain": [
       "tuple"
      ]
     },
     "execution_count": 47,
     "metadata": {},
     "output_type": "execute_result"
    }
   ],
   "source": [
    "tuple1 = 'a','b','c',1\n",
    "type(tuple1)"
   ]
  },
  {
   "cell_type": "code",
   "execution_count": 48,
   "id": "d4fe5b69",
   "metadata": {},
   "outputs": [
    {
     "data": {
      "text/plain": [
       "(1, 1, 2, 2, 3, 3)"
      ]
     },
     "execution_count": 48,
     "metadata": {},
     "output_type": "execute_result"
    }
   ],
   "source": [
    "t3 = (1,1,2,2,3,3)\n",
    "t3"
   ]
  },
  {
   "cell_type": "code",
   "execution_count": 49,
   "id": "2b85dbc8",
   "metadata": {},
   "outputs": [],
   "source": [
    "list9 = [1,2,3,4]\n",
    "tuple3 = tuple([1,2,3,4])"
   ]
  },
  {
   "cell_type": "code",
   "execution_count": 50,
   "id": "91ea6f25",
   "metadata": {},
   "outputs": [
    {
     "data": {
      "text/plain": [
       "(1, 2, 3, 4)"
      ]
     },
     "execution_count": 50,
     "metadata": {},
     "output_type": "execute_result"
    }
   ],
   "source": [
    "tuple3 = tuple(list9)\n",
    "tuple3"
   ]
  },
  {
   "cell_type": "code",
   "execution_count": 51,
   "id": "d993ee9f",
   "metadata": {},
   "outputs": [
    {
     "data": {
      "text/plain": [
       "6"
      ]
     },
     "execution_count": 51,
     "metadata": {},
     "output_type": "execute_result"
    }
   ],
   "source": [
    "c = len(t3)\n",
    "c"
   ]
  },
  {
   "cell_type": "code",
   "execution_count": 52,
   "id": "9a6e3155",
   "metadata": {},
   "outputs": [
    {
     "data": {
      "text/plain": [
       "(2, 3, 4, 5, 6, 7, 8)"
      ]
     },
     "execution_count": 52,
     "metadata": {},
     "output_type": "execute_result"
    }
   ],
   "source": [
    "t4 = (2,3,4,5,6,7,8)\n",
    "t4"
   ]
  },
  {
   "cell_type": "code",
   "execution_count": 53,
   "id": "d0b0aab8",
   "metadata": {},
   "outputs": [
    {
     "data": {
      "text/plain": [
       "('a', 'b', 'c')"
      ]
     },
     "execution_count": 53,
     "metadata": {},
     "output_type": "execute_result"
    }
   ],
   "source": [
    "t10 = tuple(\"abc\")\n",
    "t10"
   ]
  },
  {
   "cell_type": "code",
   "execution_count": 54,
   "id": "097c70f9",
   "metadata": {},
   "outputs": [
    {
     "data": {
      "text/plain": [
       "('abc', 'def')"
      ]
     },
     "execution_count": 54,
     "metadata": {},
     "output_type": "execute_result"
    }
   ],
   "source": [
    "t11 = tuple([\"abc\",'def'])\n",
    "t11"
   ]
  },
  {
   "cell_type": "code",
   "execution_count": 55,
   "id": "306ad9f7",
   "metadata": {},
   "outputs": [
    {
     "data": {
      "text/plain": [
       "(2, 3, 4, 5, 6, 7, 8)"
      ]
     },
     "execution_count": 55,
     "metadata": {},
     "output_type": "execute_result"
    }
   ],
   "source": [
    "t4"
   ]
  },
  {
   "cell_type": "code",
   "execution_count": 56,
   "id": "738b2a35",
   "metadata": {},
   "outputs": [
    {
     "data": {
      "text/plain": [
       "(2, 3, 4)"
      ]
     },
     "execution_count": 56,
     "metadata": {},
     "output_type": "execute_result"
    }
   ],
   "source": [
    "t4[0:3]"
   ]
  },
  {
   "cell_type": "markdown",
   "id": "e24c58f6",
   "metadata": {},
   "source": [
    "# Dictionary"
   ]
  },
  {
   "cell_type": "code",
   "execution_count": 57,
   "id": "7bad5343",
   "metadata": {},
   "outputs": [
    {
     "data": {
      "text/plain": [
       "{}"
      ]
     },
     "execution_count": 57,
     "metadata": {},
     "output_type": "execute_result"
    }
   ],
   "source": [
    "dic1 = {}\n",
    "dic1"
   ]
  },
  {
   "cell_type": "code",
   "execution_count": 59,
   "id": "7c035c33",
   "metadata": {},
   "outputs": [
    {
     "data": {
      "text/plain": [
       "2"
      ]
     },
     "execution_count": 59,
     "metadata": {},
     "output_type": "execute_result"
    }
   ],
   "source": [
    "dict2 = {1:\"hi\",2:\"hello\"}\n",
    "len(dict2)"
   ]
  },
  {
   "cell_type": "code",
   "execution_count": 60,
   "id": "42335055",
   "metadata": {},
   "outputs": [
    {
     "data": {
      "text/plain": [
       "{'1': 'Hello', 1: 2}"
      ]
     },
     "execution_count": 60,
     "metadata": {},
     "output_type": "execute_result"
    }
   ],
   "source": [
    "di3={'1':\"Hello\",1:2}\n",
    "di3"
   ]
  },
  {
   "cell_type": "code",
   "execution_count": 64,
   "id": "18421874",
   "metadata": {},
   "outputs": [
    {
     "data": {
      "text/plain": [
       "{'fdfd1': ['abc', 1], 2: 'abc'}"
      ]
     },
     "execution_count": 64,
     "metadata": {},
     "output_type": "execute_result"
    }
   ],
   "source": [
    "d1 = {'fdfd1':[\"abc\",1], 2:\"def\", 2:'abc'}\n",
    "d1"
   ]
  },
  {
   "cell_type": "code",
   "execution_count": 65,
   "id": "e625df92",
   "metadata": {},
   "outputs": [
    {
     "data": {
      "text/plain": [
       "'abc'"
      ]
     },
     "execution_count": 65,
     "metadata": {},
     "output_type": "execute_result"
    }
   ],
   "source": [
    "d1[2]"
   ]
  },
  {
   "cell_type": "code",
   "execution_count": 66,
   "id": "4e2abbb6",
   "metadata": {},
   "outputs": [
    {
     "data": {
      "text/plain": [
       "dict_keys(['fdfd1', 2])"
      ]
     },
     "execution_count": 66,
     "metadata": {},
     "output_type": "execute_result"
    }
   ],
   "source": [
    "d1.keys()"
   ]
  },
  {
   "cell_type": "code",
   "execution_count": 67,
   "id": "db096eb8",
   "metadata": {},
   "outputs": [
    {
     "data": {
      "text/plain": [
       "dict_values([['abc', 1], 'abc'])"
      ]
     },
     "execution_count": 67,
     "metadata": {},
     "output_type": "execute_result"
    }
   ],
   "source": [
    "d1.values()"
   ]
  },
  {
   "cell_type": "code",
   "execution_count": 68,
   "id": "aefbd777",
   "metadata": {},
   "outputs": [],
   "source": [
    "d2 = {'1':\"a\", 2:\"b\", 2:\"c\"}"
   ]
  },
  {
   "cell_type": "code",
   "execution_count": 69,
   "id": "eea61ca7",
   "metadata": {},
   "outputs": [
    {
     "data": {
      "text/plain": [
       "{'1': 'a', 2: 'c'}"
      ]
     },
     "execution_count": 69,
     "metadata": {},
     "output_type": "execute_result"
    }
   ],
   "source": [
    "d2"
   ]
  },
  {
   "cell_type": "code",
   "execution_count": 70,
   "id": "3c72b6b2",
   "metadata": {},
   "outputs": [],
   "source": [
    "d3 = {\"2\":2,\"3\":1}"
   ]
  },
  {
   "cell_type": "code",
   "execution_count": 71,
   "id": "25e3ebd2",
   "metadata": {},
   "outputs": [
    {
     "data": {
      "text/plain": [
       "{'2': 2, '3': 1}"
      ]
     },
     "execution_count": 71,
     "metadata": {},
     "output_type": "execute_result"
    }
   ],
   "source": [
    "d3"
   ]
  },
  {
   "cell_type": "code",
   "execution_count": 72,
   "id": "6a0dacf5",
   "metadata": {},
   "outputs": [
    {
     "data": {
      "text/plain": [
       "{'1': 'a', 2: 'c'}"
      ]
     },
     "execution_count": 72,
     "metadata": {},
     "output_type": "execute_result"
    }
   ],
   "source": [
    "d2"
   ]
  },
  {
   "cell_type": "code",
   "execution_count": 73,
   "id": "e899d639",
   "metadata": {},
   "outputs": [
    {
     "data": {
      "text/plain": [
       "{(1+3j): 'a'}"
      ]
     },
     "execution_count": 73,
     "metadata": {},
     "output_type": "execute_result"
    }
   ],
   "source": [
    "di5 = {1+3j:\"a\"}\n",
    "di5"
   ]
  },
  {
   "cell_type": "code",
   "execution_count": 74,
   "id": "8e34554a",
   "metadata": {},
   "outputs": [
    {
     "data": {
      "text/plain": [
       "{'1': 'a', 2: 'c'}"
      ]
     },
     "execution_count": 74,
     "metadata": {},
     "output_type": "execute_result"
    }
   ],
   "source": [
    "d2"
   ]
  },
  {
   "cell_type": "code",
   "execution_count": 75,
   "id": "4af65a0c",
   "metadata": {},
   "outputs": [],
   "source": [
    "del d2['1']"
   ]
  },
  {
   "cell_type": "code",
   "execution_count": 76,
   "id": "8ecf8033",
   "metadata": {},
   "outputs": [
    {
     "data": {
      "text/plain": [
       "{2: 'c'}"
      ]
     },
     "execution_count": 76,
     "metadata": {},
     "output_type": "execute_result"
    }
   ],
   "source": [
    "d2"
   ]
  },
  {
   "cell_type": "code",
   "execution_count": 77,
   "id": "7803c591",
   "metadata": {},
   "outputs": [
    {
     "data": {
      "text/plain": [
       "{1.2: 'abc'}"
      ]
     },
     "execution_count": 77,
     "metadata": {},
     "output_type": "execute_result"
    }
   ],
   "source": [
    "d4 = {1.2 :\"abc\"}\n",
    "d4"
   ]
  },
  {
   "cell_type": "code",
   "execution_count": 78,
   "id": "8fdab91d",
   "metadata": {},
   "outputs": [
    {
     "data": {
      "text/plain": [
       "1"
      ]
     },
     "execution_count": 78,
     "metadata": {},
     "output_type": "execute_result"
    }
   ],
   "source": [
    "len(d4)"
   ]
  },
  {
   "cell_type": "code",
   "execution_count": 79,
   "id": "d2fc3ed8",
   "metadata": {},
   "outputs": [
    {
     "data": {
      "text/plain": [
       "{1: 'a', 2: 'a'}"
      ]
     },
     "execution_count": 79,
     "metadata": {},
     "output_type": "execute_result"
    }
   ],
   "source": [
    "d5 = {1:\"a\", 2:\"a\"}\n",
    "d5"
   ]
  },
  {
   "cell_type": "code",
   "execution_count": 80,
   "id": "7403449c",
   "metadata": {},
   "outputs": [],
   "source": [
    "del d5[1]"
   ]
  },
  {
   "cell_type": "code",
   "execution_count": 81,
   "id": "f3296bab",
   "metadata": {},
   "outputs": [
    {
     "data": {
      "text/plain": [
       "{2: 'a'}"
      ]
     },
     "execution_count": 81,
     "metadata": {},
     "output_type": "execute_result"
    }
   ],
   "source": [
    "d5"
   ]
  },
  {
   "cell_type": "code",
   "execution_count": 83,
   "id": "8b5e942c",
   "metadata": {},
   "outputs": [
    {
     "data": {
      "text/plain": [
       "{2: 'a'}"
      ]
     },
     "execution_count": 83,
     "metadata": {},
     "output_type": "execute_result"
    }
   ],
   "source": [
    "d5"
   ]
  },
  {
   "cell_type": "code",
   "execution_count": 82,
   "id": "8761e5b6",
   "metadata": {},
   "outputs": [
    {
     "data": {
      "text/plain": [
       "True"
      ]
     },
     "execution_count": 82,
     "metadata": {},
     "output_type": "execute_result"
    }
   ],
   "source": [
    "1 not in d5"
   ]
  },
  {
   "cell_type": "code",
   "execution_count": 86,
   "id": "c8d78932",
   "metadata": {},
   "outputs": [
    {
     "data": {
      "text/plain": [
       "{2: 'a'}"
      ]
     },
     "execution_count": 86,
     "metadata": {},
     "output_type": "execute_result"
    }
   ],
   "source": [
    "d5"
   ]
  },
  {
   "cell_type": "code",
   "execution_count": 84,
   "id": "d405f1b4",
   "metadata": {},
   "outputs": [
    {
     "data": {
      "text/plain": [
       "False"
      ]
     },
     "execution_count": 84,
     "metadata": {},
     "output_type": "execute_result"
    }
   ],
   "source": [
    "'a' in d5 "
   ]
  },
  {
   "cell_type": "code",
   "execution_count": 85,
   "id": "c492e76b",
   "metadata": {},
   "outputs": [
    {
     "data": {
      "text/plain": [
       "{'2': 2, '3': 1}"
      ]
     },
     "execution_count": 85,
     "metadata": {},
     "output_type": "execute_result"
    }
   ],
   "source": [
    "d3"
   ]
  },
  {
   "cell_type": "code",
   "execution_count": 87,
   "id": "d21f3f78",
   "metadata": {},
   "outputs": [
    {
     "data": {
      "text/plain": [
       "False"
      ]
     },
     "execution_count": 87,
     "metadata": {},
     "output_type": "execute_result"
    }
   ],
   "source": [
    "d5 == d3"
   ]
  },
  {
   "cell_type": "code",
   "execution_count": 88,
   "id": "de1efaca",
   "metadata": {},
   "outputs": [
    {
     "data": {
      "text/plain": [
       "{1: 'b', 2: 'c'}"
      ]
     },
     "execution_count": 88,
     "metadata": {},
     "output_type": "execute_result"
    }
   ],
   "source": [
    "d6 = {1:\"b\", 2:\"c\"}\n",
    "d6"
   ]
  },
  {
   "cell_type": "code",
   "execution_count": 89,
   "id": "36b60486",
   "metadata": {},
   "outputs": [
    {
     "data": {
      "text/plain": [
       "{'2': 2, '3': 1}"
      ]
     },
     "execution_count": 89,
     "metadata": {},
     "output_type": "execute_result"
    }
   ],
   "source": [
    "d3"
   ]
  },
  {
   "cell_type": "code",
   "execution_count": null,
   "id": "87d46c40",
   "metadata": {},
   "outputs": [],
   "source": [
    "d6"
   ]
  },
  {
   "cell_type": "code",
   "execution_count": 90,
   "id": "31e402f1",
   "metadata": {},
   "outputs": [
    {
     "data": {
      "text/plain": [
       "False"
      ]
     },
     "execution_count": 90,
     "metadata": {},
     "output_type": "execute_result"
    }
   ],
   "source": [
    "d3==d6"
   ]
  },
  {
   "cell_type": "code",
   "execution_count": 91,
   "id": "d82f03a0",
   "metadata": {},
   "outputs": [],
   "source": [
    "dict11 = {2:'b',1:'a'}\n",
    "dict12 = {1:'a',2:'b'}"
   ]
  },
  {
   "cell_type": "code",
   "execution_count": 92,
   "id": "f8d7695f",
   "metadata": {},
   "outputs": [
    {
     "data": {
      "text/plain": [
       "True"
      ]
     },
     "execution_count": 92,
     "metadata": {},
     "output_type": "execute_result"
    }
   ],
   "source": [
    "dict11 == dict12"
   ]
  },
  {
   "cell_type": "code",
   "execution_count": 93,
   "id": "2e02c3e4",
   "metadata": {},
   "outputs": [
    {
     "data": {
      "text/plain": [
       "{'2': 2, '3': 1}"
      ]
     },
     "execution_count": 93,
     "metadata": {},
     "output_type": "execute_result"
    }
   ],
   "source": [
    "d3"
   ]
  },
  {
   "cell_type": "code",
   "execution_count": 94,
   "id": "cdf43d3b",
   "metadata": {},
   "outputs": [
    {
     "data": {
      "text/plain": [
       "('3', 1)"
      ]
     },
     "execution_count": 94,
     "metadata": {},
     "output_type": "execute_result"
    }
   ],
   "source": [
    "d3.popitem()"
   ]
  },
  {
   "cell_type": "code",
   "execution_count": 95,
   "id": "d7963f16",
   "metadata": {},
   "outputs": [
    {
     "data": {
      "text/plain": [
       "{'2': 2}"
      ]
     },
     "execution_count": 95,
     "metadata": {},
     "output_type": "execute_result"
    }
   ],
   "source": [
    "d3"
   ]
  },
  {
   "cell_type": "code",
   "execution_count": 96,
   "id": "117459c8",
   "metadata": {},
   "outputs": [],
   "source": [
    "d50 = {'2': 2, '3': 1, 1:'a'}"
   ]
  },
  {
   "cell_type": "code",
   "execution_count": 97,
   "id": "248c4545",
   "metadata": {},
   "outputs": [
    {
     "data": {
      "text/plain": [
       "(1, 'a')"
      ]
     },
     "execution_count": 97,
     "metadata": {},
     "output_type": "execute_result"
    }
   ],
   "source": [
    "d50.popitem()"
   ]
  },
  {
   "cell_type": "code",
   "execution_count": 98,
   "id": "4af67891",
   "metadata": {},
   "outputs": [
    {
     "data": {
      "text/plain": [
       "{'2': 2, '3': 1}"
      ]
     },
     "execution_count": 98,
     "metadata": {},
     "output_type": "execute_result"
    }
   ],
   "source": [
    "d50"
   ]
  },
  {
   "cell_type": "code",
   "execution_count": 99,
   "id": "32584231",
   "metadata": {},
   "outputs": [
    {
     "data": {
      "text/plain": [
       "{'2': 2}"
      ]
     },
     "execution_count": 99,
     "metadata": {},
     "output_type": "execute_result"
    }
   ],
   "source": [
    "d3"
   ]
  },
  {
   "cell_type": "code",
   "execution_count": 100,
   "id": "a2264513",
   "metadata": {},
   "outputs": [],
   "source": [
    "d3.clear()"
   ]
  },
  {
   "cell_type": "code",
   "execution_count": 101,
   "id": "dfac6554",
   "metadata": {},
   "outputs": [
    {
     "data": {
      "text/plain": [
       "{}"
      ]
     },
     "execution_count": 101,
     "metadata": {},
     "output_type": "execute_result"
    }
   ],
   "source": [
    "d3"
   ]
  },
  {
   "cell_type": "markdown",
   "id": "d8cf0047",
   "metadata": {},
   "source": [
    "# SET[](){}"
   ]
  },
  {
   "cell_type": "code",
   "execution_count": 102,
   "id": "640fd693",
   "metadata": {},
   "outputs": [],
   "source": [
    "s = {1,2,3,3,4,5,4}"
   ]
  },
  {
   "cell_type": "code",
   "execution_count": 103,
   "id": "9ad00f6d",
   "metadata": {
    "scrolled": false
   },
   "outputs": [
    {
     "data": {
      "text/plain": [
       "{1, 2, 3, 4, 5}"
      ]
     },
     "execution_count": 103,
     "metadata": {},
     "output_type": "execute_result"
    }
   ],
   "source": [
    "s"
   ]
  },
  {
   "cell_type": "code",
   "execution_count": 104,
   "id": "d1eadc07",
   "metadata": {},
   "outputs": [
    {
     "data": {
      "text/plain": [
       "{1, 2, 3, 5}"
      ]
     },
     "execution_count": 104,
     "metadata": {},
     "output_type": "execute_result"
    }
   ],
   "source": [
    "s50 = {2 , 3 , 1 , 3, 5}\n",
    "s50 "
   ]
  },
  {
   "cell_type": "code",
   "execution_count": 105,
   "id": "f3b7d3c1",
   "metadata": {},
   "outputs": [],
   "source": [
    "s1 = {1,2,3,4}\n",
    "s2={2,3,5,6}"
   ]
  },
  {
   "cell_type": "code",
   "execution_count": 106,
   "id": "a7f6176c",
   "metadata": {},
   "outputs": [
    {
     "data": {
      "text/plain": [
       "{1, 2, 3, 4}"
      ]
     },
     "execution_count": 106,
     "metadata": {},
     "output_type": "execute_result"
    }
   ],
   "source": [
    "s1"
   ]
  },
  {
   "cell_type": "code",
   "execution_count": 107,
   "id": "48f1f049",
   "metadata": {},
   "outputs": [
    {
     "data": {
      "text/plain": [
       "{2, 3, 5, 6}"
      ]
     },
     "execution_count": 107,
     "metadata": {},
     "output_type": "execute_result"
    }
   ],
   "source": [
    "s2"
   ]
  },
  {
   "cell_type": "code",
   "execution_count": 108,
   "id": "7adebdae",
   "metadata": {},
   "outputs": [
    {
     "data": {
      "text/plain": [
       "{2, 3}"
      ]
     },
     "execution_count": 108,
     "metadata": {},
     "output_type": "execute_result"
    }
   ],
   "source": [
    "s1.intersection(s2)"
   ]
  },
  {
   "cell_type": "code",
   "execution_count": 109,
   "id": "3c8a7b90",
   "metadata": {},
   "outputs": [
    {
     "data": {
      "text/plain": [
       "{2, 3}"
      ]
     },
     "execution_count": 109,
     "metadata": {},
     "output_type": "execute_result"
    }
   ],
   "source": [
    "s2.intersection(s1)"
   ]
  },
  {
   "cell_type": "code",
   "execution_count": 110,
   "id": "be517318",
   "metadata": {},
   "outputs": [
    {
     "data": {
      "text/plain": [
       "{1, 2, 3, 4}"
      ]
     },
     "execution_count": 110,
     "metadata": {},
     "output_type": "execute_result"
    }
   ],
   "source": [
    "s1.intersection(s1)"
   ]
  },
  {
   "cell_type": "code",
   "execution_count": 111,
   "id": "17d0ff24",
   "metadata": {},
   "outputs": [
    {
     "data": {
      "text/plain": [
       "{1, 2, 3, 4}"
      ]
     },
     "execution_count": 111,
     "metadata": {},
     "output_type": "execute_result"
    }
   ],
   "source": [
    "s1"
   ]
  },
  {
   "cell_type": "code",
   "execution_count": 112,
   "id": "eab5c6e6",
   "metadata": {},
   "outputs": [
    {
     "data": {
      "text/plain": [
       "{2, 3, 5, 6}"
      ]
     },
     "execution_count": 112,
     "metadata": {},
     "output_type": "execute_result"
    }
   ],
   "source": [
    "s2"
   ]
  },
  {
   "cell_type": "code",
   "execution_count": 113,
   "id": "644d346b",
   "metadata": {},
   "outputs": [
    {
     "data": {
      "text/plain": [
       "{1, 4, 5, 6}"
      ]
     },
     "execution_count": 113,
     "metadata": {},
     "output_type": "execute_result"
    }
   ],
   "source": [
    "s1.symmetric_difference(s2)"
   ]
  },
  {
   "cell_type": "code",
   "execution_count": 114,
   "id": "479531a6",
   "metadata": {},
   "outputs": [
    {
     "data": {
      "text/plain": [
       "{1, 4, 5, 6}"
      ]
     },
     "execution_count": 114,
     "metadata": {},
     "output_type": "execute_result"
    }
   ],
   "source": [
    "s2.symmetric_difference(s1)"
   ]
  },
  {
   "cell_type": "code",
   "execution_count": 115,
   "id": "c8f1c400",
   "metadata": {},
   "outputs": [
    {
     "data": {
      "text/plain": [
       "{1, 2, 3, 4}"
      ]
     },
     "execution_count": 115,
     "metadata": {},
     "output_type": "execute_result"
    }
   ],
   "source": [
    "s1"
   ]
  },
  {
   "cell_type": "code",
   "execution_count": 116,
   "id": "a2b7b414",
   "metadata": {},
   "outputs": [
    {
     "data": {
      "text/plain": [
       "{2, 3, 5, 6}"
      ]
     },
     "execution_count": 116,
     "metadata": {},
     "output_type": "execute_result"
    }
   ],
   "source": [
    "s2"
   ]
  },
  {
   "cell_type": "code",
   "execution_count": 117,
   "id": "dcbd0512",
   "metadata": {},
   "outputs": [
    {
     "data": {
      "text/plain": [
       "{1, 4}"
      ]
     },
     "execution_count": 117,
     "metadata": {},
     "output_type": "execute_result"
    }
   ],
   "source": [
    "s1.difference(s2)"
   ]
  },
  {
   "cell_type": "code",
   "execution_count": 118,
   "id": "da72ccd2",
   "metadata": {},
   "outputs": [
    {
     "data": {
      "text/plain": [
       "{5, 6}"
      ]
     },
     "execution_count": 118,
     "metadata": {},
     "output_type": "execute_result"
    }
   ],
   "source": [
    "s2.difference(s1)"
   ]
  },
  {
   "cell_type": "code",
   "execution_count": 119,
   "id": "f170794d",
   "metadata": {},
   "outputs": [
    {
     "data": {
      "text/plain": [
       "{1, 2, 3, 4, 5, 6}"
      ]
     },
     "execution_count": 119,
     "metadata": {},
     "output_type": "execute_result"
    }
   ],
   "source": [
    "s1.union(s2)"
   ]
  },
  {
   "cell_type": "code",
   "execution_count": null,
   "id": "2402a764",
   "metadata": {},
   "outputs": [],
   "source": [
    "s3 = {6,7,5,4}\n",
    "s4 = {7,6,2,1}\n"
   ]
  },
  {
   "cell_type": "code",
   "execution_count": null,
   "id": "ffbc91b0",
   "metadata": {},
   "outputs": [],
   "source": [
    "s3.symmetric_difference(s4)"
   ]
  },
  {
   "cell_type": "code",
   "execution_count": null,
   "id": "be6f1006",
   "metadata": {},
   "outputs": [],
   "source": [
    "s4.symmetric_difference(s3)"
   ]
  },
  {
   "cell_type": "code",
   "execution_count": 120,
   "id": "78024b4c",
   "metadata": {},
   "outputs": [
    {
     "ename": "NameError",
     "evalue": "name 'l9' is not defined",
     "output_type": "error",
     "traceback": [
      "\u001b[1;31m---------------------------------------------------------------------------\u001b[0m",
      "\u001b[1;31mNameError\u001b[0m                                 Traceback (most recent call last)",
      "\u001b[1;32m<ipython-input-120-76b7c0dff493>\u001b[0m in \u001b[0;36m<module>\u001b[1;34m\u001b[0m\n\u001b[1;32m----> 1\u001b[1;33m \u001b[0ml9\u001b[0m\u001b[1;33m\u001b[0m\u001b[1;33m\u001b[0m\u001b[0m\n\u001b[0m",
      "\u001b[1;31mNameError\u001b[0m: name 'l9' is not defined"
     ]
    }
   ],
   "source": [
    "l9"
   ]
  },
  {
   "cell_type": "raw",
   "id": "3f5b86b6",
   "metadata": {},
   "source": [
    "l9.insert(1, 3)"
   ]
  },
  {
   "cell_type": "code",
   "execution_count": null,
   "id": "06b2de4a",
   "metadata": {},
   "outputs": [],
   "source": [
    "print(l9)"
   ]
  },
  {
   "cell_type": "code",
   "execution_count": null,
   "id": "d84ec39b",
   "metadata": {},
   "outputs": [],
   "source": [
    "l10"
   ]
  },
  {
   "cell_type": "code",
   "execution_count": null,
   "id": "4c0fb7a6",
   "metadata": {},
   "outputs": [],
   "source": [
    "l11 = [1,2,3,4]"
   ]
  },
  {
   "cell_type": "code",
   "execution_count": null,
   "id": "abf634d3",
   "metadata": {},
   "outputs": [],
   "source": [
    "l11.insert(4,5)\n",
    "print(l11)"
   ]
  },
  {
   "cell_type": "code",
   "execution_count": null,
   "id": "c5c48a25",
   "metadata": {},
   "outputs": [],
   "source": [
    "l11.remove(5)"
   ]
  },
  {
   "cell_type": "code",
   "execution_count": null,
   "id": "47faeafb",
   "metadata": {},
   "outputs": [],
   "source": [
    "print(l11)"
   ]
  },
  {
   "cell_type": "code",
   "execution_count": null,
   "id": "b764bd48",
   "metadata": {},
   "outputs": [],
   "source": [
    "print(l11.reverse())"
   ]
  },
  {
   "cell_type": "code",
   "execution_count": null,
   "id": "d8507f1a",
   "metadata": {},
   "outputs": [],
   "source": [
    "l11"
   ]
  },
  {
   "cell_type": "code",
   "execution_count": null,
   "id": "51cee992",
   "metadata": {},
   "outputs": [],
   "source": [
    "l11.reverse()\n",
    "l11"
   ]
  },
  {
   "cell_type": "code",
   "execution_count": null,
   "id": "33ffa7c9",
   "metadata": {},
   "outputs": [],
   "source": [
    "l11.sort()\n",
    "l11"
   ]
  },
  {
   "cell_type": "code",
   "execution_count": null,
   "id": "1a7f5644",
   "metadata": {},
   "outputs": [],
   "source": [
    "l11[4]"
   ]
  },
  {
   "cell_type": "code",
   "execution_count": null,
   "id": "b7079a4e",
   "metadata": {},
   "outputs": [],
   "source": [
    "l11.sort(reverse=True)\n",
    "l11"
   ]
  },
  {
   "cell_type": "code",
   "execution_count": null,
   "id": "fb92bd2e",
   "metadata": {},
   "outputs": [],
   "source": [
    "l11.pop()"
   ]
  },
  {
   "cell_type": "code",
   "execution_count": null,
   "id": "17d4d3de",
   "metadata": {},
   "outputs": [],
   "source": [
    "l11"
   ]
  },
  {
   "cell_type": "code",
   "execution_count": null,
   "id": "1d7489b3",
   "metadata": {},
   "outputs": [],
   "source": [
    "t9 = (1,2)\n",
    "t10=(3,4)\n",
    "t9=t9+t10\n",
    "print(t9)"
   ]
  },
  {
   "cell_type": "code",
   "execution_count": null,
   "id": "28dcc1e0",
   "metadata": {},
   "outputs": [],
   "source": []
  }
 ],
 "metadata": {
  "kernelspec": {
   "display_name": "Python 3",
   "language": "python",
   "name": "python3"
  },
  "language_info": {
   "codemirror_mode": {
    "name": "ipython",
    "version": 3
   },
   "file_extension": ".py",
   "mimetype": "text/x-python",
   "name": "python",
   "nbconvert_exporter": "python",
   "pygments_lexer": "ipython3",
   "version": "3.8.8"
  }
 },
 "nbformat": 4,
 "nbformat_minor": 5
}
