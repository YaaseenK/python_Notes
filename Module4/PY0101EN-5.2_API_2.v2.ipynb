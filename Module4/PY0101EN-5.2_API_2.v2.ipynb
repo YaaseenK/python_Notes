{
 "cells": [
  {
   "cell_type": "markdown",
   "id": "d673832d-40c8-46cb-9683-b1db250266e9",
   "metadata": {},
   "source": [
    "<center>\n",
    "    <img src=\"https://cf-courses-data.s3.us.cloud-object-storage.appdomain.cloud/assets/logos/SN_web_lightmode.png\" width=\"300\" alt=\"cognitiveclass.ai logo\">\n",
    "</center>\n",
    "\n",
    "# Hands-on Lab: API Examples\n",
    "## Random User and Fruityvice API Examples\n",
    "\n",
    "\n",
    "Estimated time needed: **30** minutes\n",
    "\n",
    "## Objectives\n",
    "\n",
    "After completing this lab you will be able to:\n",
    "\n",
    "*   Load and use RandomUser API, using `RandomUser()` Python library\n",
    "*   Load and use Fruityvice API, using `requests` Python library\n",
    "*   Load and use Open-Joke-API, using `requests` Python library\n",
    "\n"
   ]
  },
  {
   "cell_type": "markdown",
   "id": "eddbcea0-12ec-4e02-846a-0df784b7c08e",
   "metadata": {},
   "source": [
    "The purpose of this notebook is to provide more examples on how to use simple APIs. As you have already learned from previous videos and notebooks, API stands for Application Programming Interface and is a software intermediary that allows two applications to talk to each other. \n",
    "\n",
    "The advantages of using APIs:\n",
    " *   **Automation**. Less human effort is required and workflows can be easily updated to become faster and more      \n",
    "     productive.\n",
    " *   **Efficiency**. It allows to use the capabilities of one of the already developed APIs than to try to \n",
    "     independently implement some functionality from scratch.\n",
    " \n",
    "The disadvantage of using APIs:\n",
    " *   **Security**. If the API is poorly integrated, it means it will be vulnerable to attacks, resulting in data breeches or losses having financial or reputation implications.\n",
    "\n",
    "One of the applications we will use in this notebook is Random User Generator. RandomUser is an open-source, free API providing developers with randomly generated users to be used as placeholders for testing purposes. This makes the tool similar to Lorem Ipsum, but is a placeholder for people instead of text. The API can return multiple results, as well as specify generated user details such as gender, email, image, username, address, title, first and last name, and more. More information on [RandomUser](https://randomuser.me/documentation#intro) can be found here.\n",
    "\n",
    "Another example of simple API we will use in this notebook is Fruityvice application. The Fruityvice API web service which provides data for all kinds of fruit! You can use Fruityvice to find out interesting information about fruit and educate yourself. The web service is completely free to use and contribute to.\n"
   ]
  },
  {
   "cell_type": "markdown",
   "id": "d26aeb0e-45f6-47a9-a87d-5f992a240df7",
   "metadata": {},
   "source": [
    "## Example 1: RandomUser API\n",
    "Bellow are Get Methods parameters that we can generate. For more information on the parameters, please visit this [documentation](https://randomuser.me/documentation) page.\n"
   ]
  },
  {
   "cell_type": "markdown",
   "id": "65f143b3-c39e-41b3-9373-9cf3cabc28a8",
   "metadata": {},
   "source": [
    "## **Get Methods**\n",
    "\n",
    "- get_cell()\n",
    "- get_city()\n",
    "- get_dob()\n",
    "- get_email()\n",
    "- get_first_name()\n",
    "- get_full_name()\n",
    "- get_gender()\n",
    "- get_id()\n",
    "- get_id_number()\n",
    "- get_id_type()\n",
    "- get_info()\n",
    "- get_last_name()\n",
    "- get_login_md5()\n",
    "- get_login_salt()\n",
    "- get_login_sha1()\n",
    "- get_login_sha256()\n",
    "- get_nat()\n",
    "- get_password()\n",
    "- get_phone()\n",
    "- get_picture()\n",
    "- get_postcode()\n",
    "- get_registered()\n",
    "- get_state()\n",
    "- get_street()\n",
    "- get_username()\n",
    "- get_zipcode()\n"
   ]
  },
  {
   "cell_type": "markdown",
   "id": "05a0dbcb-3476-4668-a147-dfe09c7435fb",
   "metadata": {},
   "source": [
    "To start using the API you can install the `randomuser` library running the `pip install` command.\n"
   ]
  },
  {
   "cell_type": "code",
   "execution_count": null,
   "id": "03dd3677-d35e-4846-85dc-ef2e9550d06e",
   "metadata": {},
   "outputs": [],
   "source": [
    "!pip install randomuser"
   ]
  },
  {
   "cell_type": "markdown",
   "id": "d5cc2fd3-665a-4164-8356-4304ae173001",
   "metadata": {},
   "source": [
    "Then, we will load the necessary libraries.\n"
   ]
  },
  {
   "cell_type": "code",
   "execution_count": 1,
   "id": "eb68b72c-5144-4104-9ad1-940942b583f9",
   "metadata": {},
   "outputs": [],
   "source": [
    "from randomuser import RandomUser\n",
    "import pandas as pd"
   ]
  },
  {
   "cell_type": "markdown",
   "id": "9a733d33-7f47-41cc-a3b6-bd3299fa953c",
   "metadata": {},
   "source": [
    "First, we will create a random user object, r.\n"
   ]
  },
  {
   "cell_type": "code",
   "execution_count": null,
   "id": "702ae6dc-25f5-491d-817a-e880a26d9277",
   "metadata": {},
   "outputs": [
    {
     "name": "stdout",
     "output_type": "stream",
     "text": [
      "<bound method RandomUser.get_age of <randomuser.RandomUser object at 0x00000250987D3490>>\n"
     ]
    }
   ],
   "source": [
    "r = RandomUser()"
   ]
  },
  {
   "cell_type": "markdown",
   "id": "4dc3adf0-64cd-4103-8c0f-cd0461cc18fb",
   "metadata": {},
   "source": [
    "Then, using `generate_users()` function, we get a list of random 10 users.\n"
   ]
  },
  {
   "cell_type": "code",
   "execution_count": 6,
   "id": "7fb687bc-07f8-421e-8ac1-7ecc88116312",
   "metadata": {},
   "outputs": [],
   "source": [
    "some_list = r.generate_users(10)"
   ]
  },
  {
   "cell_type": "code",
   "execution_count": 7,
   "id": "87ba3f4a-a9ff-436d-91df-406802c0b645",
   "metadata": {},
   "outputs": [
    {
     "data": {
      "text/plain": [
       "[<randomuser.RandomUser at 0x250987d45d0>,\n",
       " <randomuser.RandomUser at 0x250987d4610>,\n",
       " <randomuser.RandomUser at 0x250987d4650>,\n",
       " <randomuser.RandomUser at 0x250987d4690>,\n",
       " <randomuser.RandomUser at 0x250987d46d0>,\n",
       " <randomuser.RandomUser at 0x250987d4750>,\n",
       " <randomuser.RandomUser at 0x250987d4790>,\n",
       " <randomuser.RandomUser at 0x250987d47d0>,\n",
       " <randomuser.RandomUser at 0x250987d4810>,\n",
       " <randomuser.RandomUser at 0x250987d4710>]"
      ]
     },
     "execution_count": 7,
     "metadata": {},
     "output_type": "execute_result"
    }
   ],
   "source": [
    "some_list"
   ]
  },
  {
   "cell_type": "markdown",
   "id": "ce1a40c2-47ef-482d-81f3-842a4fa07d11",
   "metadata": {},
   "source": [
    "The **\"Get Methods\"** functions mentioned at the beginning of this notebook, can generate the required parameters to construct a dataset. For example, to get full name, we call `get_full_name()` function.\n"
   ]
  },
  {
   "cell_type": "code",
   "execution_count": null,
   "id": "0ea13295-e923-4b5b-9647-cbe05f501821",
   "metadata": {},
   "outputs": [
    {
     "ename": "TypeError",
     "evalue": "RandomUser.get_age() takes 1 positional argument but 2 were given",
     "output_type": "error",
     "traceback": [
      "\u001b[31m---------------------------------------------------------------------------\u001b[39m",
      "\u001b[31mTypeError\u001b[39m                                 Traceback (most recent call last)",
      "\u001b[36mCell\u001b[39m\u001b[36m \u001b[39m\u001b[32mIn[41]\u001b[39m\u001b[32m, line 2\u001b[39m\n\u001b[32m      1\u001b[39m name = r.get_full_name()\n\u001b[32m----> \u001b[39m\u001b[32m2\u001b[39m age = \u001b[43mr\u001b[49m\u001b[43m.\u001b[49m\u001b[43mget_age\u001b[49m\u001b[43m(\u001b[49m\u001b[32;43m2\u001b[39;49m\u001b[43m)\u001b[49m\n\u001b[32m      3\u001b[39m age\n",
      "\u001b[31mTypeError\u001b[39m: RandomUser.get_age() takes 1 positional argument but 2 were given"
     ]
    }
   ],
   "source": [
    "name = r.get_full_name()\n"
   ]
  },
  {
   "cell_type": "markdown",
   "id": "d22c29ec-fa87-4a7a-9e8a-8bfff09c7a8c",
   "metadata": {},
   "source": [
    "Let's say we only need 10 users with full names and their email addresses. We can write a \"for-loop\" to print these 10 users.\n"
   ]
  },
  {
   "cell_type": "code",
   "execution_count": 9,
   "id": "32d52bf2-b739-4622-babe-258644f70da8",
   "metadata": {},
   "outputs": [
    {
     "name": "stdout",
     "output_type": "stream",
     "text": [
      "Brielle Macdonald   brielle.macdonald@example.com\n",
      "Arthur Claire   arthur.claire@example.com\n",
      "Romy Charles   romy.charles@example.com\n",
      "Iina Koskinen   iina.koskinen@example.com\n",
      "Jade Claire   jade.claire@example.com\n",
      "Calvin Edwards   calvin.edwards@example.com\n",
      "Reno Dors   reno.dors@example.com\n",
      "Aventino de Souza   aventino.desouza@example.com\n",
      "Lærke Christensen   laerke.christensen@example.com\n",
      "Mathilde Clement   mathilde.clement@example.com\n"
     ]
    }
   ],
   "source": [
    "for user in some_list:\n",
    "    print (user.get_full_name(),\" \",user.get_email())"
   ]
  },
  {
   "cell_type": "markdown",
   "id": "da02b524-824b-4d10-98d9-88ff28d60b91",
   "metadata": {},
   "source": [
    "## Exercise 1\n",
    "In this Exercise, generate photos of the random 10 users.\n"
   ]
  },
  {
   "cell_type": "code",
   "execution_count": 15,
   "id": "185af63b-bd55-4d45-ae0f-cf03739c3cb4",
   "metadata": {},
   "outputs": [
    {
     "name": "stdout",
     "output_type": "stream",
     "text": [
      "https://randomuser.me/api/portraits/women/70.jpg\n",
      "https://randomuser.me/api/portraits/women/17.jpg\n",
      "https://randomuser.me/api/portraits/men/58.jpg\n",
      "https://randomuser.me/api/portraits/women/60.jpg\n",
      "https://randomuser.me/api/portraits/men/17.jpg\n",
      "https://randomuser.me/api/portraits/men/92.jpg\n",
      "https://randomuser.me/api/portraits/women/56.jpg\n",
      "https://randomuser.me/api/portraits/women/50.jpg\n",
      "https://randomuser.me/api/portraits/men/58.jpg\n",
      "https://randomuser.me/api/portraits/women/56.jpg\n"
     ]
    }
   ],
   "source": [
    "## Write your code here\n",
    "user = RandomUser()\n",
    "# print(user)\n",
    "\n",
    "user_List = user.generate_users(10)\n",
    "img = user.get_picture()\n",
    "# img\n",
    "for user in user_List:\n",
    "    print(user.get_picture())"
   ]
  },
  {
   "cell_type": "markdown",
   "id": "c18e3695-5c47-4c51-b707-4771ca11ccaf",
   "metadata": {},
   "source": [
    "<details><summary>Click here for the solution</summary>\n",
    "\n",
    "```python\n",
    "for user in some_list:\n",
    "    print (user.get_picture())\n",
    "```\n",
    "\n",
    "</details>\n"
   ]
  },
  {
   "cell_type": "markdown",
   "id": "9d56ec89-0804-4747-9a3c-cd12590f0407",
   "metadata": {},
   "source": [
    "To generate a table with information about the users, we can write a function containing all desirable parameters. For example, name, gender, city, etc. The parameters will depend on the requirements of the test to be performed. We call the Get Methods, listed at the beginning of this notebook. Then, we return pandas dataframe with the users.\n"
   ]
  },
  {
   "cell_type": "code",
   "execution_count": null,
   "id": "00221c66-9346-40ec-a093-18385112a0cd",
   "metadata": {},
   "outputs": [],
   "source": [
    "def get_users():\n",
    "    users =[]\n",
    "    for user in RandomUser.generate_users(10):\n",
    "        users.append({\"Name\":user.get_full_name(),\"Gender\":user.get_gender(),\"City\":user.get_city(),\"State\":user.get_state(),\"Email\":user.get_email(), \"DOB\":user.get_dob(),\"Picture\":user.get_picture()})\n",
    "\n",
    "    return pd.DataFrame(users)     "
   ]
  },
  {
   "cell_type": "code",
   "execution_count": 17,
   "id": "f247afd7-8264-4ba4-a897-3bb3406cd082",
   "metadata": {},
   "outputs": [
    {
     "data": {
      "text/html": [
       "<div>\n",
       "<style scoped>\n",
       "    .dataframe tbody tr th:only-of-type {\n",
       "        vertical-align: middle;\n",
       "    }\n",
       "\n",
       "    .dataframe tbody tr th {\n",
       "        vertical-align: top;\n",
       "    }\n",
       "\n",
       "    .dataframe thead th {\n",
       "        text-align: right;\n",
       "    }\n",
       "</style>\n",
       "<table border=\"1\" class=\"dataframe\">\n",
       "  <thead>\n",
       "    <tr style=\"text-align: right;\">\n",
       "      <th></th>\n",
       "      <th>Name</th>\n",
       "      <th>Gender</th>\n",
       "      <th>City</th>\n",
       "      <th>State</th>\n",
       "      <th>Email</th>\n",
       "      <th>DOB</th>\n",
       "      <th>Picture</th>\n",
       "    </tr>\n",
       "  </thead>\n",
       "  <tbody>\n",
       "    <tr>\n",
       "      <th>0</th>\n",
       "      <td>Bobby Armstrong</td>\n",
       "      <td>male</td>\n",
       "      <td>Letterkenny</td>\n",
       "      <td>Fingal</td>\n",
       "      <td>bobby.armstrong@example.com</td>\n",
       "      <td>1961-02-23T23:27:16.290Z</td>\n",
       "      <td>https://randomuser.me/api/portraits/men/42.jpg</td>\n",
       "    </tr>\n",
       "    <tr>\n",
       "      <th>1</th>\n",
       "      <td>Toby Chen</td>\n",
       "      <td>male</td>\n",
       "      <td>New Plymouth</td>\n",
       "      <td>Manawatu-Wanganui</td>\n",
       "      <td>toby.chen@example.com</td>\n",
       "      <td>1993-09-17T14:51:16.238Z</td>\n",
       "      <td>https://randomuser.me/api/portraits/men/40.jpg</td>\n",
       "    </tr>\n",
       "    <tr>\n",
       "      <th>2</th>\n",
       "      <td>Darryl May</td>\n",
       "      <td>male</td>\n",
       "      <td>Sunshine Coast</td>\n",
       "      <td>Victoria</td>\n",
       "      <td>darryl.may@example.com</td>\n",
       "      <td>1961-11-07T07:18:21.004Z</td>\n",
       "      <td>https://randomuser.me/api/portraits/men/41.jpg</td>\n",
       "    </tr>\n",
       "    <tr>\n",
       "      <th>3</th>\n",
       "      <td>Ethan Walker</td>\n",
       "      <td>male</td>\n",
       "      <td>Hamilton</td>\n",
       "      <td>Nelson</td>\n",
       "      <td>ethan.walker@example.com</td>\n",
       "      <td>1995-11-05T12:07:00.829Z</td>\n",
       "      <td>https://randomuser.me/api/portraits/men/35.jpg</td>\n",
       "    </tr>\n",
       "    <tr>\n",
       "      <th>4</th>\n",
       "      <td>Cameron Walker</td>\n",
       "      <td>male</td>\n",
       "      <td>Masterton</td>\n",
       "      <td>Nelson</td>\n",
       "      <td>cameron.walker@example.com</td>\n",
       "      <td>1954-02-25T04:21:59.757Z</td>\n",
       "      <td>https://randomuser.me/api/portraits/men/70.jpg</td>\n",
       "    </tr>\n",
       "    <tr>\n",
       "      <th>5</th>\n",
       "      <td>Rosário Pinto</td>\n",
       "      <td>male</td>\n",
       "      <td>Parnamirim</td>\n",
       "      <td>Maranhão</td>\n",
       "      <td>rosario.pinto@example.com</td>\n",
       "      <td>1978-05-14T06:25:21.895Z</td>\n",
       "      <td>https://randomuser.me/api/portraits/men/71.jpg</td>\n",
       "    </tr>\n",
       "    <tr>\n",
       "      <th>6</th>\n",
       "      <td>Bo Brøndbo</td>\n",
       "      <td>male</td>\n",
       "      <td>Hoelsand</td>\n",
       "      <td>Oppland</td>\n",
       "      <td>bo.brondbo@example.com</td>\n",
       "      <td>1958-01-11T04:39:07.425Z</td>\n",
       "      <td>https://randomuser.me/api/portraits/men/45.jpg</td>\n",
       "    </tr>\n",
       "    <tr>\n",
       "      <th>7</th>\n",
       "      <td>Chloe Ross</td>\n",
       "      <td>female</td>\n",
       "      <td>Killarney</td>\n",
       "      <td>Nova Scotia</td>\n",
       "      <td>chloe.ross@example.com</td>\n",
       "      <td>1959-02-26T04:29:34.000Z</td>\n",
       "      <td>https://randomuser.me/api/portraits/women/46.jpg</td>\n",
       "    </tr>\n",
       "    <tr>\n",
       "      <th>8</th>\n",
       "      <td>Jelmar Lammerts</td>\n",
       "      <td>male</td>\n",
       "      <td>Schoonrewoerd</td>\n",
       "      <td>Flevoland</td>\n",
       "      <td>jelmar.lammerts@example.com</td>\n",
       "      <td>1991-06-27T16:55:06.307Z</td>\n",
       "      <td>https://randomuser.me/api/portraits/men/77.jpg</td>\n",
       "    </tr>\n",
       "    <tr>\n",
       "      <th>9</th>\n",
       "      <td>Burckhard Rosner</td>\n",
       "      <td>male</td>\n",
       "      <td>Cochem</td>\n",
       "      <td>Niedersachsen</td>\n",
       "      <td>burckhard.rosner@example.com</td>\n",
       "      <td>1982-06-17T16:25:50.070Z</td>\n",
       "      <td>https://randomuser.me/api/portraits/men/97.jpg</td>\n",
       "    </tr>\n",
       "  </tbody>\n",
       "</table>\n",
       "</div>"
      ],
      "text/plain": [
       "               Name  Gender            City              State  \\\n",
       "0   Bobby Armstrong    male     Letterkenny             Fingal   \n",
       "1         Toby Chen    male    New Plymouth  Manawatu-Wanganui   \n",
       "2        Darryl May    male  Sunshine Coast           Victoria   \n",
       "3      Ethan Walker    male        Hamilton             Nelson   \n",
       "4    Cameron Walker    male       Masterton             Nelson   \n",
       "5     Rosário Pinto    male      Parnamirim           Maranhão   \n",
       "6        Bo Brøndbo    male        Hoelsand            Oppland   \n",
       "7        Chloe Ross  female       Killarney        Nova Scotia   \n",
       "8   Jelmar Lammerts    male   Schoonrewoerd          Flevoland   \n",
       "9  Burckhard Rosner    male          Cochem      Niedersachsen   \n",
       "\n",
       "                          Email                       DOB  \\\n",
       "0   bobby.armstrong@example.com  1961-02-23T23:27:16.290Z   \n",
       "1         toby.chen@example.com  1993-09-17T14:51:16.238Z   \n",
       "2        darryl.may@example.com  1961-11-07T07:18:21.004Z   \n",
       "3      ethan.walker@example.com  1995-11-05T12:07:00.829Z   \n",
       "4    cameron.walker@example.com  1954-02-25T04:21:59.757Z   \n",
       "5     rosario.pinto@example.com  1978-05-14T06:25:21.895Z   \n",
       "6        bo.brondbo@example.com  1958-01-11T04:39:07.425Z   \n",
       "7        chloe.ross@example.com  1959-02-26T04:29:34.000Z   \n",
       "8   jelmar.lammerts@example.com  1991-06-27T16:55:06.307Z   \n",
       "9  burckhard.rosner@example.com  1982-06-17T16:25:50.070Z   \n",
       "\n",
       "                                            Picture  \n",
       "0    https://randomuser.me/api/portraits/men/42.jpg  \n",
       "1    https://randomuser.me/api/portraits/men/40.jpg  \n",
       "2    https://randomuser.me/api/portraits/men/41.jpg  \n",
       "3    https://randomuser.me/api/portraits/men/35.jpg  \n",
       "4    https://randomuser.me/api/portraits/men/70.jpg  \n",
       "5    https://randomuser.me/api/portraits/men/71.jpg  \n",
       "6    https://randomuser.me/api/portraits/men/45.jpg  \n",
       "7  https://randomuser.me/api/portraits/women/46.jpg  \n",
       "8    https://randomuser.me/api/portraits/men/77.jpg  \n",
       "9    https://randomuser.me/api/portraits/men/97.jpg  "
      ]
     },
     "execution_count": 17,
     "metadata": {},
     "output_type": "execute_result"
    }
   ],
   "source": [
    "get_users()"
   ]
  },
  {
   "cell_type": "code",
   "execution_count": 18,
   "id": "6e86e087-1fea-48d7-9772-3fbbea86d783",
   "metadata": {},
   "outputs": [],
   "source": [
    "df1 = pd.DataFrame(get_users())  "
   ]
  },
  {
   "cell_type": "code",
   "execution_count": null,
   "metadata": {},
   "outputs": [
    {
     "data": {
      "text/html": [
       "<div>\n",
       "<style scoped>\n",
       "    .dataframe tbody tr th:only-of-type {\n",
       "        vertical-align: middle;\n",
       "    }\n",
       "\n",
       "    .dataframe tbody tr th {\n",
       "        vertical-align: top;\n",
       "    }\n",
       "\n",
       "    .dataframe thead th {\n",
       "        text-align: right;\n",
       "    }\n",
       "</style>\n",
       "<table border=\"1\" class=\"dataframe\">\n",
       "  <thead>\n",
       "    <tr style=\"text-align: right;\">\n",
       "      <th></th>\n",
       "      <th>First Name:</th>\n",
       "      <th>Last Name:</th>\n",
       "      <th>Gender</th>\n",
       "      <th>Age</th>\n",
       "      <th>Email:</th>\n",
       "      <th>DOB</th>\n",
       "    </tr>\n",
       "  </thead>\n",
       "  <tbody>\n",
       "    <tr>\n",
       "      <th>0</th>\n",
       "      <td>Amelia</td>\n",
       "      <td>Hale</td>\n",
       "      <td>female</td>\n",
       "      <td>50</td>\n",
       "      <td>amelia.hale@example.com</td>\n",
       "      <td>1975-08-24T15:07:40.985Z</td>\n",
       "    </tr>\n",
       "    <tr>\n",
       "      <th>1</th>\n",
       "      <td>Hans-Günter</td>\n",
       "      <td>Römer</td>\n",
       "      <td>male</td>\n",
       "      <td>74</td>\n",
       "      <td>hans-gunter.romer@example.com</td>\n",
       "      <td>1951-06-07T04:20:42.274Z</td>\n",
       "    </tr>\n",
       "    <tr>\n",
       "      <th>2</th>\n",
       "      <td>Koray</td>\n",
       "      <td>Balcı</td>\n",
       "      <td>male</td>\n",
       "      <td>57</td>\n",
       "      <td>koray.balci@example.com</td>\n",
       "      <td>1968-07-08T02:27:47.495Z</td>\n",
       "    </tr>\n",
       "    <tr>\n",
       "      <th>3</th>\n",
       "      <td>Enrique</td>\n",
       "      <td>Knight</td>\n",
       "      <td>male</td>\n",
       "      <td>72</td>\n",
       "      <td>enrique.knight@example.com</td>\n",
       "      <td>1953-09-04T05:37:17.621Z</td>\n",
       "    </tr>\n",
       "    <tr>\n",
       "      <th>4</th>\n",
       "      <td>Margie</td>\n",
       "      <td>Clark</td>\n",
       "      <td>female</td>\n",
       "      <td>74</td>\n",
       "      <td>margie.clark@example.com</td>\n",
       "      <td>1951-02-16T22:58:11.794Z</td>\n",
       "    </tr>\n",
       "    <tr>\n",
       "      <th>5</th>\n",
       "      <td>Justine</td>\n",
       "      <td>Kowalski</td>\n",
       "      <td>female</td>\n",
       "      <td>69</td>\n",
       "      <td>justine.kowalski@example.com</td>\n",
       "      <td>1956-08-22T13:37:36.675Z</td>\n",
       "    </tr>\n",
       "    <tr>\n",
       "      <th>6</th>\n",
       "      <td>Nichlas</td>\n",
       "      <td>Kroken</td>\n",
       "      <td>male</td>\n",
       "      <td>72</td>\n",
       "      <td>nichlas.kroken@example.com</td>\n",
       "      <td>1953-10-05T07:18:37.012Z</td>\n",
       "    </tr>\n",
       "    <tr>\n",
       "      <th>7</th>\n",
       "      <td>Isabella</td>\n",
       "      <td>Ross</td>\n",
       "      <td>female</td>\n",
       "      <td>42</td>\n",
       "      <td>isabella.ross@example.com</td>\n",
       "      <td>1983-02-05T02:16:34.210Z</td>\n",
       "    </tr>\n",
       "    <tr>\n",
       "      <th>8</th>\n",
       "      <td>Abigail</td>\n",
       "      <td>Edwards</td>\n",
       "      <td>female</td>\n",
       "      <td>43</td>\n",
       "      <td>abigail.edwards@example.com</td>\n",
       "      <td>1982-04-26T19:02:34.053Z</td>\n",
       "    </tr>\n",
       "    <tr>\n",
       "      <th>9</th>\n",
       "      <td>درسا</td>\n",
       "      <td>موسوی</td>\n",
       "      <td>female</td>\n",
       "      <td>49</td>\n",
       "      <td>drs.mwswy@example.com</td>\n",
       "      <td>1976-10-29T16:12:04.642Z</td>\n",
       "    </tr>\n",
       "  </tbody>\n",
       "</table>\n",
       "</div>"
      ],
      "text/plain": [
       "  First Name:  Last Name:   Gender  Age                         Email:  \\\n",
       "0       Amelia        Hale  female   50        amelia.hale@example.com   \n",
       "1  Hans-Günter       Römer    male   74  hans-gunter.romer@example.com   \n",
       "2        Koray       Balcı    male   57        koray.balci@example.com   \n",
       "3      Enrique      Knight    male   72     enrique.knight@example.com   \n",
       "4       Margie       Clark  female   74       margie.clark@example.com   \n",
       "5      Justine    Kowalski  female   69   justine.kowalski@example.com   \n",
       "6      Nichlas      Kroken    male   72     nichlas.kroken@example.com   \n",
       "7     Isabella        Ross  female   42      isabella.ross@example.com   \n",
       "8      Abigail     Edwards  female   43    abigail.edwards@example.com   \n",
       "9         درسا       موسوی  female   49          drs.mwswy@example.com   \n",
       "\n",
       "                        DOB  \n",
       "0  1975-08-24T15:07:40.985Z  \n",
       "1  1951-06-07T04:20:42.274Z  \n",
       "2  1968-07-08T02:27:47.495Z  \n",
       "3  1953-09-04T05:37:17.621Z  \n",
       "4  1951-02-16T22:58:11.794Z  \n",
       "5  1956-08-22T13:37:36.675Z  \n",
       "6  1953-10-05T07:18:37.012Z  \n",
       "7  1983-02-05T02:16:34.210Z  \n",
       "8  1982-04-26T19:02:34.053Z  \n",
       "9  1976-10-29T16:12:04.642Z  "
      ]
     },
     "execution_count": 6,
     "metadata": {},
     "output_type": "execute_result"
    }
   ],
   "source": [
    "def createUsers():\n",
    "    usersLI = []\n",
    "\n",
    "    for users in RandomUser.generate_users(10):\n",
    "\n",
    "        usersLI.append({\"First Name: \": users.get_first_name(),\n",
    "                        \"Last Name: \": users.get_last_name(), \n",
    "                        \"Gender\": users.get_gender(),\n",
    "                        \"City\": user.get_city()\n",
    "                        \"DOB\": users.get_dob(),\n",
    "                        \"Age\": users.get_age(),\n",
    "                        \"Email:\": users.get_email(),\n",
    "                        \"Phone\": user.get_phone()})\n",
    "\n",
    "    return(pd.DataFrame(usersLI))\n",
    "\n",
    "createUsers()\n"
   ]
  },
  {
   "cell_type": "markdown",
   "id": "801f8632-b3b0-455e-ba23-bb56881ab28d",
   "metadata": {},
   "source": [
    "Now we have a *pandas* dataframe that can be used for any testing purposes that the tester might have.\n"
   ]
  },
  {
   "cell_type": "markdown",
   "id": "c142e473-8541-412d-97e9-fcf9137162c9",
   "metadata": {},
   "source": [
    "## Example 2: Fruityvice API\n",
    "\n",
    "Another, more common way to use APIs, is through `requests` library. The next lab, Requests and HTTP, will contain more information about requests.\n",
    "\n",
    "We will start by importing all required libraries.\n"
   ]
  },
  {
   "cell_type": "code",
   "execution_count": 19,
   "id": "0fab7231-1595-4987-9371-3f405be38bab",
   "metadata": {},
   "outputs": [],
   "source": [
    "import requests\n",
    "import json"
   ]
  },
  {
   "cell_type": "markdown",
   "id": "84aaa532-7396-4c8f-9a47-ca59fd1c163f",
   "metadata": {},
   "source": [
    "We will obtain the [fruityvice](https://www.fruityvice.com) API data using `requests.get(\"url\")` function. The data is in a json format.\n"
   ]
  },
  {
   "cell_type": "code",
   "execution_count": 20,
   "id": "7053b9c6-62a0-41fd-9ec9-eb4b5d827adc",
   "metadata": {},
   "outputs": [],
   "source": [
    "data = requests.get(\"https://fruityvice.com/api/fruit/all\")"
   ]
  },
  {
   "cell_type": "markdown",
   "id": "6052ec70-26d8-4353-ac80-a256ad0079fd",
   "metadata": {},
   "source": [
    "We will retrieve results using `json.loads()` function.\n"
   ]
  },
  {
   "cell_type": "code",
   "execution_count": 21,
   "id": "cf72f427-a3e7-4a26-a380-3cfa6f98d6cd",
   "metadata": {},
   "outputs": [],
   "source": [
    "results = json.loads(data.text)"
   ]
  },
  {
   "cell_type": "markdown",
   "id": "9428e0b5-4eac-4b55-80fa-352fbdfbd887",
   "metadata": {},
   "source": [
    "We will convert our json data into *pandas* data frame. \n"
   ]
  },
  {
   "cell_type": "code",
   "execution_count": null,
   "id": "95a814d1-d830-439f-85c8-a266ecacdf46",
   "metadata": {},
   "outputs": [
    {
     "ename": "AttributeError",
     "evalue": "'list' object has no attribute 'head'",
     "output_type": "error",
     "traceback": [
      "\u001b[31m---------------------------------------------------------------------------\u001b[39m",
      "\u001b[31mAttributeError\u001b[39m                            Traceback (most recent call last)",
      "\u001b[36mCell\u001b[39m\u001b[36m \u001b[39m\u001b[32mIn[27]\u001b[39m\u001b[32m, line 1\u001b[39m\n\u001b[32m----> \u001b[39m\u001b[32m1\u001b[39m pd.DataFrame(\u001b[43mresults\u001b[49m\u001b[43m.\u001b[49m\u001b[43mhead\u001b[49m())\n",
      "\u001b[31mAttributeError\u001b[39m: 'list' object has no attribute 'head'"
     ]
    }
   ],
   "source": [
    "pd.DataFrame(results)"
   ]
  },
  {
   "cell_type": "markdown",
   "id": "c42000a0-c4a4-414a-bb75-38eb4c582f7e",
   "metadata": {},
   "source": [
    "The result is in a nested json format. The 'nutrition' column contains multiple subcolumns, so the data needs to be 'flattened' or normalized.\n"
   ]
  },
  {
   "cell_type": "code",
   "execution_count": 23,
   "id": "9aee3a41-b079-4717-83b5-eacaec453d54",
   "metadata": {},
   "outputs": [],
   "source": [
    "df2 = pd.json_normalize(results)"
   ]
  },
  {
   "cell_type": "code",
   "execution_count": 26,
   "id": "f0c14769-091f-43c1-94b5-1b6453d0d239",
   "metadata": {},
   "outputs": [
    {
     "data": {
      "text/html": [
       "<div>\n",
       "<style scoped>\n",
       "    .dataframe tbody tr th:only-of-type {\n",
       "        vertical-align: middle;\n",
       "    }\n",
       "\n",
       "    .dataframe tbody tr th {\n",
       "        vertical-align: top;\n",
       "    }\n",
       "\n",
       "    .dataframe thead th {\n",
       "        text-align: right;\n",
       "    }\n",
       "</style>\n",
       "<table border=\"1\" class=\"dataframe\">\n",
       "  <thead>\n",
       "    <tr style=\"text-align: right;\">\n",
       "      <th></th>\n",
       "      <th>name</th>\n",
       "      <th>id</th>\n",
       "      <th>family</th>\n",
       "      <th>order</th>\n",
       "      <th>genus</th>\n",
       "      <th>nutritions.calories</th>\n",
       "      <th>nutritions.fat</th>\n",
       "      <th>nutritions.sugar</th>\n",
       "      <th>nutritions.carbohydrates</th>\n",
       "      <th>nutritions.protein</th>\n",
       "    </tr>\n",
       "  </thead>\n",
       "  <tbody>\n",
       "    <tr>\n",
       "      <th>0</th>\n",
       "      <td>Persimmon</td>\n",
       "      <td>52</td>\n",
       "      <td>Ebenaceae</td>\n",
       "      <td>Rosales</td>\n",
       "      <td>Diospyros</td>\n",
       "      <td>81</td>\n",
       "      <td>0.0</td>\n",
       "      <td>18.0</td>\n",
       "      <td>18.0</td>\n",
       "      <td>0.0</td>\n",
       "    </tr>\n",
       "    <tr>\n",
       "      <th>1</th>\n",
       "      <td>Strawberry</td>\n",
       "      <td>3</td>\n",
       "      <td>Rosaceae</td>\n",
       "      <td>Rosales</td>\n",
       "      <td>Fragaria</td>\n",
       "      <td>29</td>\n",
       "      <td>0.4</td>\n",
       "      <td>5.4</td>\n",
       "      <td>5.5</td>\n",
       "      <td>0.8</td>\n",
       "    </tr>\n",
       "    <tr>\n",
       "      <th>2</th>\n",
       "      <td>Banana</td>\n",
       "      <td>1</td>\n",
       "      <td>Musaceae</td>\n",
       "      <td>Zingiberales</td>\n",
       "      <td>Musa</td>\n",
       "      <td>96</td>\n",
       "      <td>0.2</td>\n",
       "      <td>17.2</td>\n",
       "      <td>22.0</td>\n",
       "      <td>1.0</td>\n",
       "    </tr>\n",
       "    <tr>\n",
       "      <th>3</th>\n",
       "      <td>Tomato</td>\n",
       "      <td>5</td>\n",
       "      <td>Solanaceae</td>\n",
       "      <td>Solanales</td>\n",
       "      <td>Solanum</td>\n",
       "      <td>74</td>\n",
       "      <td>0.2</td>\n",
       "      <td>2.6</td>\n",
       "      <td>3.9</td>\n",
       "      <td>0.9</td>\n",
       "    </tr>\n",
       "    <tr>\n",
       "      <th>4</th>\n",
       "      <td>Pear</td>\n",
       "      <td>4</td>\n",
       "      <td>Rosaceae</td>\n",
       "      <td>Rosales</td>\n",
       "      <td>Pyrus</td>\n",
       "      <td>57</td>\n",
       "      <td>0.1</td>\n",
       "      <td>10.0</td>\n",
       "      <td>15.0</td>\n",
       "      <td>0.4</td>\n",
       "    </tr>\n",
       "  </tbody>\n",
       "</table>\n",
       "</div>"
      ],
      "text/plain": [
       "         name  id      family         order      genus  nutritions.calories  \\\n",
       "0   Persimmon  52   Ebenaceae       Rosales  Diospyros                   81   \n",
       "1  Strawberry   3    Rosaceae       Rosales   Fragaria                   29   \n",
       "2      Banana   1    Musaceae  Zingiberales       Musa                   96   \n",
       "3      Tomato   5  Solanaceae     Solanales    Solanum                   74   \n",
       "4        Pear   4    Rosaceae       Rosales      Pyrus                   57   \n",
       "\n",
       "   nutritions.fat  nutritions.sugar  nutritions.carbohydrates  \\\n",
       "0             0.0              18.0                      18.0   \n",
       "1             0.4               5.4                       5.5   \n",
       "2             0.2              17.2                      22.0   \n",
       "3             0.2               2.6                       3.9   \n",
       "4             0.1              10.0                      15.0   \n",
       "\n",
       "   nutritions.protein  \n",
       "0                 0.0  \n",
       "1                 0.8  \n",
       "2                 1.0  \n",
       "3                 0.9  \n",
       "4                 0.4  "
      ]
     },
     "execution_count": 26,
     "metadata": {},
     "output_type": "execute_result"
    }
   ],
   "source": [
    "df2.head()"
   ]
  },
  {
   "cell_type": "markdown",
   "id": "bf762cc4-51a3-4531-8d0a-9af6a56c03f8",
   "metadata": {},
   "source": [
    "Let's see if we can extract some information from this dataframe. Perhaps, we need to know the family and genus of a cherry.\n"
   ]
  },
  {
   "cell_type": "code",
   "execution_count": 25,
   "id": "660d98e6-2e39-4529-9d4b-101a910e2c78",
   "metadata": {},
   "outputs": [
    {
     "data": {
      "text/plain": [
       "('Rosaceae', 'Prunus')"
      ]
     },
     "execution_count": 25,
     "metadata": {},
     "output_type": "execute_result"
    }
   ],
   "source": [
    "cherry = df2.loc[df2[\"name\"] == 'Cherry']\n",
    "(cherry.iloc[0]['family']) , (cherry.iloc[0]['genus'])"
   ]
  },
  {
   "cell_type": "markdown",
   "id": "602737fd-1d4f-4f55-abf6-82d1ef8d7e9d",
   "metadata": {},
   "source": [
    "## Exercise 2\n",
    "In this Exercise, find out how many calories are contained in a banana.\n"
   ]
  },
  {
   "cell_type": "code",
   "execution_count": null,
   "id": "7d8fceb0-e213-499b-9911-38f84a27fa37",
   "metadata": {},
   "outputs": [],
   "source": [
    "# Write your code here\n"
   ]
  },
  {
   "cell_type": "markdown",
   "id": "322fe91e-b8b8-45cb-96cf-de985f2c28e3",
   "metadata": {},
   "source": [
    "<details><summary>Click here for the solution</summary>\n",
    "\n",
    "```python\n",
    "cal_banana = df2.loc[df2[\"name\"] == 'Banana']\n",
    "cal_banana.iloc[0]['nutritions.calories']\n",
    "```\n",
    "\n",
    "</details>\n"
   ]
  },
  {
   "cell_type": "markdown",
   "id": "edd4a007-06e0-40bf-9a55-98f8c7bf31c0",
   "metadata": {},
   "source": [
    "## Exercise 3\n",
    "\n",
    "This [page](https://mixedanalytics.com/blog/list-actually-free-open-no-auth-needed-apis/) contains a list of free public APIs for you to practice. Let us deal with the following example.\n",
    "\n",
    "#### Official Joke API \n",
    "This API returns random jokes from a database. The following URL can be used to retrieve 10 random jokes.\n",
    "\n",
    "https://official-joke-api.appspot.com/jokes/ten\n",
    "\n",
    "1. Using `requests.get(\"url\")` function, load the data from the URL.\n"
   ]
  },
  {
   "cell_type": "code",
   "execution_count": null,
   "id": "a2cf8c3a-6d3b-4bc8-bb26-caa402e87e7d",
   "metadata": {},
   "outputs": [],
   "source": [
    "# Write your code here\n"
   ]
  },
  {
   "cell_type": "markdown",
   "id": "e78e58bd-fabc-468a-aed5-8177ab4c3571",
   "metadata": {},
   "source": [
    "<details><summary>Click here for the solution</summary>\n",
    "\n",
    "```python\n",
    "data2 = requests.get(\"https://official-joke-api.appspot.com/jokes/ten\")\n",
    "```\n",
    "\n",
    "</details>\n"
   ]
  },
  {
   "cell_type": "markdown",
   "id": "f66559c1-3b10-4b47-b6fd-670873514837",
   "metadata": {},
   "source": [
    "2. Retrieve results using `json.loads()` function.\n"
   ]
  },
  {
   "cell_type": "code",
   "execution_count": null,
   "id": "08da44dc-2543-4eb6-9d25-c4cdedc54848",
   "metadata": {},
   "outputs": [],
   "source": [
    "# Write your code here\n"
   ]
  },
  {
   "cell_type": "markdown",
   "id": "4062641e-2b8d-4a14-bfe7-d7dea2133187",
   "metadata": {},
   "source": [
    "<details><summary>Click here for the solution</summary>\n",
    "\n",
    "```python\n",
    "results2 = json.loads(data2.text)\n",
    "```\n",
    "\n",
    "</details>\n"
   ]
  },
  {
   "cell_type": "markdown",
   "id": "51f2a639-5e1c-4313-bbf7-ea9132ed6c07",
   "metadata": {},
   "source": [
    "3. Convert json data into *pandas* data frame. Drop the type and id columns.\n"
   ]
  },
  {
   "cell_type": "code",
   "execution_count": null,
   "id": "568bda9e-5f41-4ac3-a203-480c91bbdf73",
   "metadata": {},
   "outputs": [],
   "source": [
    "# Write your code here\n"
   ]
  },
  {
   "cell_type": "markdown",
   "id": "a1c0dc3d-1a0d-468d-9472-b1a86d1bb230",
   "metadata": {},
   "source": [
    "<details><summary>Click here for the solution</summary>\n",
    "\n",
    "```python\n",
    "df3 = pd.DataFrame(results2)\n",
    "df3.drop(columns=[\"type\",\"id\"],inplace=True)\n",
    "df3\n",
    "```\n",
    "\n",
    "</details>\n"
   ]
  },
  {
   "cell_type": "markdown",
   "id": "d18fa720-1e4f-412c-83b4-ca09da2266d0",
   "metadata": {},
   "source": [
    "# Congratulations! - You have completed the lab\n"
   ]
  },
  {
   "cell_type": "markdown",
   "id": "4d2cbd08-2095-4ee5-9ebe-487702a907aa",
   "metadata": {},
   "source": [
    "## Author\n",
    "<a href=\"https://www.linkedin.com/in/svitlana-kramar\" target=\"_blank\">Svitlana Kramar</a>\n",
    "\n",
    "Svitlana is a master’s degree Data Science and Analytics student at University of Calgary, who enjoys travelling, learning new languages and cultures and loves spreading her passion for Data Science.\n",
    "\n",
    "## Additional Contributor\n",
    "<a href=\"https://www.linkedin.com/in/abhishek-gagneja-23051987/\" target=\"_blank\">Abhishek Gagneja</a>\n"
   ]
  },
  {
   "cell_type": "markdown",
   "id": "3ac85d1f-a634-40ab-843f-1fc98c2e65eb",
   "metadata": {},
   "source": [
    "Copyright © 2023 IBM Corporation. All rights reserved.\n"
   ]
  }
 ],
 "metadata": {
  "kernelspec": {
   "display_name": "Python 3",
   "language": "python",
   "name": "python3"
  },
  "language_info": {
   "codemirror_mode": {
    "name": "ipython",
    "version": 3
   },
   "file_extension": ".py",
   "mimetype": "text/x-python",
   "name": "python",
   "nbconvert_exporter": "python",
   "pygments_lexer": "ipython3",
   "version": "3.11.9"
  }
 },
 "nbformat": 4,
 "nbformat_minor": 4
}
