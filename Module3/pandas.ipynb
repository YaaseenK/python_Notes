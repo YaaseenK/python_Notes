{
 "cells": [
  {
   "cell_type": "markdown",
   "metadata": {},
   "source": [
    "INTRO TO PANDAS FOR DATA ANALYSIS\n",
    "\n",
    "OBJECTIVE: \n",
    "1. LEARN PANDAS SERIES AND HOW TO CREATE THEM\n",
    "2. ACCESS AND MANIPULATE DATA WITHIN SERIES \n",
    "3. CREATING AND WORKING WITH DATAFRAMES \n",
    "4. ACCESS, MODIFY AND ANALYZE DATA"
   ]
  },
  {
   "cell_type": "markdown",
   "metadata": {},
   "source": [
    "What is Pandas?\n",
    "\n",
    "Pandas is a popular open-source data manipulation and analysis library for the Python programming language. It provides a powerful and flexible set of tools for working with structured data, making it a fundamental tool for data scientists, analysts, and engineers.\n",
    "Pandas is designed to handle data in various formats, such as tabular data, time series data, and more, making it an essential part of the data processing workflow in many industries.\n",
    "\n",
    "Here are some key features and functionalities of Pandas:\n",
    "\n",
    "Data Structures: Pandas offers two primary data structures - DataFrame and Series.\n",
    "\n",
    "A DataFrame is a two-dimensional, size-mutable, and potentially heterogeneous tabular data structure with labeled axes (rows and columns).\n",
    "A Series is a one-dimensional labeled array, essentially a single column or row of data.\n",
    "Data Import and Export: Pandas makes it easy to read data from various sources, including CSV files, Excel spreadsheets, SQL databases, and more. It can also export data to these formats, enabling seamless data exchange.\n",
    "\n",
    "Data Merging and Joining: You can combine multiple DataFrames using methods like merge and join, similar to SQL operations, to create more complex datasets from different sources.\n",
    "\n",
    "Efficient Indexing: Pandas provides efficient indexing and selection methods, allowing you to access specific rows and columns of data quickly.\n",
    "\n",
    "Custom Data Structures: You can create custom data structures and manipulate data in ways that suit your specific needs, extending Pandas' capabilities.\n",
    "\n"
   ]
  },
  {
   "cell_type": "code",
   "execution_count": null,
   "metadata": {},
   "outputs": [],
   "source": [
    "import pandas as pd \n",
    "\n",
    "# Read the CSV file into a DataFrame \n",
    "\n",
    "df = pd.read_csv('csv_file_path.csv')"
   ]
  },
  {
   "cell_type": "markdown",
   "metadata": {},
   "source": [
    "<h3 class = \"title\"> What is Series? </h3>\n",
    "<ul> \n",
    "    <li> One-dimensional labeled array in Pandas</li>\n",
    "    <li> \n",
    "        Single column of data with labels or indices for each element \n",
    "    </li>\n",
    "    <li> Create series from various data sources: lists, Numpy arrays, Dictionaries </li>\n",
    "\n",
    "</ul>"
   ]
  },
  {
   "cell_type": "code",
   "execution_count": 1,
   "metadata": {},
   "outputs": [
    {
     "name": "stdout",
     "output_type": "stream",
     "text": [
      "0    10\n",
      "1    20\n",
      "2    30\n",
      "3    40\n",
      "4    50\n",
      "dtype: int64\n"
     ]
    }
   ],
   "source": [
    "import pandas as pd\n",
    "\n",
    "# Create a Series from a list\n",
    "data = [10, 20, 30, 40, 50]\n",
    "s = pd.Series(data)\n",
    "\n",
    "print(s)"
   ]
  },
  {
   "cell_type": "markdown",
   "metadata": {},
   "source": [
    "<h3> In this example: </h3>\n",
    "<p> We've created a Series named s with numeric data </p>\n",
    "<p> Pandas assigned numerical indives (0, 1, 2...) to each element </p>\n",
    "<p> You can specify custom labels if needed</p>"
   ]
  },
  {
   "cell_type": "markdown",
   "metadata": {},
   "source": [
    "<h3>Accessing Elements in a Series</h3>\n",
    "<p>Access elements in a Series using index labels or int positions</p>"
   ]
  },
  {
   "cell_type": "markdown",
   "metadata": {},
   "source": [
    "<h4> 1. Accessing by label</h4>\n",
    "<h4> 2. Accessing by position</h4>\n",
    "<h4> 3. Accessing multiple elements</h4>"
   ]
  },
  {
   "cell_type": "code",
   "execution_count": null,
   "metadata": {},
   "outputs": [
    {
     "name": "stdout",
     "output_type": "stream",
     "text": [
      "30\n"
     ]
    }
   ],
   "source": [
    "# 1\n",
    "print(s[2]) # Access the element with label 2"
   ]
  },
  {
   "cell_type": "code",
   "execution_count": null,
   "metadata": {},
   "outputs": [
    {
     "name": "stdout",
     "output_type": "stream",
     "text": [
      "40\n"
     ]
    }
   ],
   "source": [
    "# 2\n",
    "print(s.iloc[3]) # Access the element at position 3"
   ]
  },
  {
   "cell_type": "code",
   "execution_count": null,
   "metadata": {},
   "outputs": [
    {
     "name": "stdout",
     "output_type": "stream",
     "text": [
      "1    20\n",
      "2    30\n",
      "3    40\n",
      "dtype: int64\n"
     ]
    }
   ],
   "source": [
    "# 3\n",
    "print(s[1:4]) # Access a range of elements by label"
   ]
  },
  {
   "cell_type": "markdown",
   "metadata": {},
   "source": [
    "<h3> Series Attributes and Methods </h3>\n",
    "<p> Pandas Seires come with various attributes and methods to help manipulate and analyze data effectively.</p>\n",
    "\n",
    "<ul>\n",
    "    <li>\n",
    "        <b>Values: </b> \n",
    "        Return Series data as Numpy Array</li>\n",
    "    <li\n",
    "        ><b>Index: </b> \n",
    "        Return the index (labels) of the Series\n",
    "    </li>\n",
    "    <li>\n",
    "        <b>Shape: </b> \n",
    "        Return tuple representng the dimensions of Series\n",
    "    </li>\n",
    "    <li>\n",
    "        <b>Size: </b> Return the number of elements</li>\n",
    "    <li><b>mean(), sum(), min(), max() </b> Calculate summary statistics of the data </li>\n",
    "    <li><b>unique(), nunique() </b> Get unique values or the number of unique values</li>\n",
    "    <li><b>sort_values(), sort_index() </b> Sort Series by values or index labels</li>\n",
    "    <li><b>isnull(), notnull() </b> Check for missing (NaN) or non-missing values</li>\n",
    "    <li><b>apply() </b> Apply custom function to each element</li>\n",
    "\n",
    "</ul>\n",
    "\n",
    "<h3>What is a DataFrames?</h3>\n",
    "<ul>\n",
    "    <li> Two-dimensional labeled data structure with columns (maybe different data types)</li>\n",
    "    <li> Table where each column is a variable / each row is an observation or data point</li>\n",
    "    <li> DataFrames suitable for wide range of data - structured data from: CSV file, Excel Spreadsheets, SQL databases, and more </li>\n",
    "</ul>"
   ]
  },
  {
   "cell_type": "markdown",
   "metadata": {},
   "source": [
    "<h3>Creating DataFrames from Dictionaries:\n",
    "</h3>\n",
    "<p> Data Frames use dictionary keys as column labels values as rows </p>"
   ]
  },
  {
   "cell_type": "code",
   "execution_count": null,
   "metadata": {},
   "outputs": [],
   "source": [
    "import pandas as pd\n",
    "\n",
    "#Creating a dataframe from a dictionary\n",
    "\n",
    "data = {'Name': ['Alice', 'Bob', 'Charlie', 'David'],\n",
    "        'Age': [25, 30, 35, 28],\n",
    "        'City': ['New York', 'San Francisco', 'Los Angeles', 'Chicago']\n",
    "        }\n",
    "\n",
    "df = pd.DataFrame(data)\n",
    "\n",
    "print(df)"
   ]
  }
 ],
 "metadata": {
  "kernelspec": {
   "display_name": "Python 3",
   "language": "python",
   "name": "python3"
  },
  "language_info": {
   "codemirror_mode": {
    "name": "ipython",
    "version": 3
   },
   "file_extension": ".py",
   "mimetype": "text/x-python",
   "name": "python",
   "nbconvert_exporter": "python",
   "pygments_lexer": "ipython3",
   "version": "3.11.9"
  }
 },
 "nbformat": 4,
 "nbformat_minor": 2
}
